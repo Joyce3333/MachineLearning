{
 "cells": [
  {
   "cell_type": "markdown",
   "metadata": {},
   "source": [
    "# Lab Assignment Seven: Recurrent Network Architectures"
   ]
  },
  {
   "cell_type": "markdown",
   "metadata": {},
   "source": [
    "Minging Li, Jiayin Liu, Tianlei Xu, He Zhou   \n",
    "  May 11, 2018"
   ]
  },
  {
   "cell_type": "markdown",
   "metadata": {},
   "source": [
    "# 1. Preparation"
   ]
  },
  {
   "cell_type": "markdown",
   "metadata": {},
   "source": [
    "## 1.1 Data Preparation"
   ]
  },
  {
   "cell_type": "markdown",
   "metadata": {},
   "source": [
    "We use the wine review dataset in this project (https://www.kaggle.com/zynicide/wine-reviews/data). The dataset contains 13 variables, country, description, designation, points, price, province, region_1, region_2, taster_name, taster_twitter_handle, title, rariety, and winery. Total observations are 3000. The variable points is numerical and all other variables are characteristic. Points refers to review points, scaled from 0-100, most of which are higher than 80. The variable description contains a few sentences from a sommelier describing the wine's taste, smell, look, feel, etc. \n",
    "\n",
    "The classification task is to classify the review (points) of different wineries. To prepare the data for a binary classification, we create a new variable ppints by assigning value \"normal\" to points less than 87 and \"good\" to points higher than 87. Our task will be classify the wineries as \"normal\" or \"good\". Our final data set contains 13 characteristic variables, 1 classification variable \"points\" which have 2 levels and 12 explanatory variables. "
   ]
  },
  {
   "cell_type": "markdown",
   "metadata": {},
   "source": [
    "Note: Since we were not able to find an approriate dataset which contains at least 500 text documents for our classification purpose, we use the lmdb (Large Movie Review Dataset) dataset to show that we have practiced data processing using text files. We obtained the raw data of lmdb dataset (http://ai.stanford.edu/~amaas/data/sentiment/) and pre-processed the dataset to our needs. The pre-process we conducted were combining all the txt files, reading in files, deleting stop words and punctuations, extracting word index, and creating training and testing dataset. We didn't use the lmdb dataset in this lab because the CNN on this dataset was already shown in class. "
   ]
  },
  {
   "cell_type": "code",
   "execution_count": null,
   "metadata": {
    "collapsed": true
   },
   "outputs": [],
   "source": [
    "# code for pre-process of lmdb dataset, this dataset is not the dataset we use for classification. \n",
    "# -*- coding: utf-8 -*-\n",
    "# reference https://www.jianshu.com/p/6b16b592b08d\n",
    "import os\n",
    "import codecs\n",
    "pos_location='/Users/jiayinliu/Desktop/study/ML/proj7/aclImdb/train/pos'\n",
    "pos_files=os.listdir(pos_location)\n",
    "neg_location='/Users/jiayinliu/Desktop/study/ML/proj7/aclImdb/train/neg'\n",
    "neg_files=os.listdir(neg_location)\n",
    "pos_all=codecs.open('/Users/jiayinliu/Desktop/study/ML/proj7/aclImdb/train/pos_all.txt','a',encoding='utf8')\n",
    "neg_all=codecs.open('/Users/jiayinliu/Desktop/study/ML/proj7/aclImdb/train/neg_all.txt','a',encoding='utf8')\n",
    "all=[]\n",
    "for file in pos_files:\n",
    "    whole_location=os.path.join(pos_location,file)\n",
    "    with open(whole_location,'r',encoding='utf8') as f:\n",
    "        line=f.readlines()\n",
    "        all.extend(line)\n",
    "for file in all:\n",
    "    pos_all.write(file)\n",
    "    pos_all.write('\\n')\n",
    "alls=[]\n",
    "for file in neg_files:\n",
    "    whole_location=os.path.join(neg_location,file)\n",
    "    with open(whole_location,'r',encoding='utf8') as f:\n",
    "        line=f.readlines()\n",
    "        alls.extend(line)\n",
    "for file in alls:\n",
    "    neg_all.write(file)\n",
    "    neg_all.write('\\n')\n",
    "    \n",
    "    from keras.preprocessing.text import Tokenizer\n",
    "from keras.models import Sequential\n",
    "from keras.layers.core import Dense,Activation\n",
    "from keras.layers.embeddings import Embedding\n",
    "from keras.layers.recurrent import LSTM\n",
    "from keras.preprocessing import sequence\n",
    "from keras.preprocessing.sequence import pad_sequences\n",
    "from keras.utils import to_categorical\n",
    "from sklearn.model_selection import train_test_split\n",
    "import nltk\n",
    "from nltk.corpus import stopwords\n",
    "import collections\n",
    "import pandas as pd\n",
    "import numpy as np\n",
    "import os\n",
    "import codecs\n",
    "\n",
    "pos_list=[]\n",
    "with open('/Users/jiayinliu/Desktop/study/ML/proj7/aclImdb/train/pos_all.txt','r',encoding='utf8')as f:\n",
    "    line=f.readlines()\n",
    "    pos_list.extend(line)\n",
    "neg_list=[]\n",
    "with open('/Users/jiayinliu/Desktop/study/ML/proj7/aclImdb/train/neg_all.txt','r',encoding='utf8')as f:\n",
    "    line=f.readlines()\n",
    "    neg_list.extend(line)\n",
    "#创建标签\n",
    "label=[1 for i in range(12500)]\n",
    "label.extend([0 for i in range(12499)])\n",
    "#评论内容整合\n",
    "content=pos_list.extend(neg_list)\n",
    "content=pos_list\n",
    "\n",
    "seq=[]\n",
    "seqtence=[]\n",
    "stop_words=set(stopwords.words('english'))\n",
    "for con in content:\n",
    "    words=nltk.word_tokenize(con)\n",
    "    line=[]\n",
    "    for word in words:\n",
    "        if word.isalpha() and word not in stop_words:\n",
    "            line.append(word)\n",
    "    seq.append(line)\n",
    "    seqtence.extend(line)\n",
    "    \n",
    "    tokenizer = Tokenizer()\n",
    "tokenizer.fit_on_texts(content)\n",
    "one_hot_results = tokenizer.texts_to_matrix(content, mode='binary')\n",
    "word_index = tokenizer.word_index\n",
    "\n",
    "sequences = tokenizer.texts_to_sequences(seq)\n",
    "final_sequences=sequence.pad_sequences(sequences,maxlen=800)\n",
    "\n",
    "# 转换为numpy类型\n",
    "label=np.array(label)\n",
    "# 随机打乱数据\n",
    "indices=np.random.permutation(len(final_sequences))\n",
    "X=final_sequences[indices]\n",
    "y=label[indices]\n",
    "# 划分测试集和训练集\n",
    "Xtrain,Xtest,ytrain,ytest=train_test_split(X,y,test_size=0.2)\n",
    "\n",
    "model=Sequential()\n",
    "model.add(Embedding(89483,256,input_length=800))\n",
    "model.add(LSTM(128,dropout=0.2))\n",
    "model.add(Dense(1))\n",
    "model.add(Activation('sigmoid'))\n",
    "model.compile(loss='binary_crossentropy',optimizer='adam',metrics=['accuracy'])\n",
    "model.fit(Xtrain,ytrain,batch_size=32,epochs=3,validation_data=(Xtest,ytest))"
   ]
  },
  {
   "cell_type": "code",
   "execution_count": 1,
   "metadata": {},
   "outputs": [
    {
     "name": "stderr",
     "output_type": "stream",
     "text": [
      "F:\\Anacoda\\lib\\site-packages\\h5py\\__init__.py:36: FutureWarning: Conversion of the second argument of issubdtype from `float` to `np.floating` is deprecated. In future, it will be treated as `np.float64 == np.dtype(float).type`.\n",
      "  from ._conv import register_converters as _register_converters\n",
      "Using TensorFlow backend.\n"
     ]
    }
   ],
   "source": [
    "# Data preparation of our dataset\n",
    "from keras.preprocessing.text import Tokenizer\n",
    "from keras.models import Sequential\n",
    "from keras.layers.core import Dense,Activation\n",
    "from keras.layers.embeddings import Embedding\n",
    "from keras.layers.recurrent import LSTM\n",
    "from keras.preprocessing import sequence\n",
    "from sklearn.model_selection import train_test_split\n",
    "import nltk\n",
    "from nltk.corpus import stopwords\n",
    "import collections\n",
    "import pandas as pd\n",
    "import numpy as np\n",
    "import os\n",
    "import codecs\n",
    "import warnings\n",
    "import math\n",
    "from sklearn import metrics as mt\n",
    "import matplotlib.pyplot as plt\n",
    "import seaborn as sns\n",
    "warnings.filterwarnings(\"ignore\")\n",
    "\n",
    "df = pd.read_excel('F:/Machine learning/review.xlsx')"
   ]
  },
  {
   "cell_type": "code",
   "execution_count": 2,
   "metadata": {
    "collapsed": true
   },
   "outputs": [],
   "source": [
    "content = df['description']"
   ]
  },
  {
   "cell_type": "code",
   "execution_count": 3,
   "metadata": {
    "collapsed": true
   },
   "outputs": [],
   "source": [
    "seq=[]\n",
    "seqtence=[]\n",
    "for con in content:\n",
    "    words=nltk.word_tokenize(con)\n",
    "    line=[]\n",
    "    for word in words:\n",
    "        if word.isalpha():\n",
    "            line.append(word)\n",
    "    seq.append(line)\n",
    "    seqtence.extend(line)"
   ]
  },
  {
   "cell_type": "code",
   "execution_count": 4,
   "metadata": {
    "collapsed": true
   },
   "outputs": [],
   "source": [
    "tokenizer = Tokenizer()\n",
    "tokenizer.fit_on_texts(content)\n",
    "one_hot_results = tokenizer.texts_to_matrix(content, mode='binary')\n",
    "word_index = tokenizer.word_index"
   ]
  },
  {
   "cell_type": "code",
   "execution_count": 5,
   "metadata": {},
   "outputs": [
    {
     "data": {
      "text/plain": [
       "6986"
      ]
     },
     "execution_count": 5,
     "metadata": {},
     "output_type": "execute_result"
    }
   ],
   "source": [
    "len(word_index)"
   ]
  },
  {
   "cell_type": "code",
   "execution_count": 6,
   "metadata": {
    "scrolled": true
   },
   "outputs": [
    {
     "data": {
      "text/plain": [
       "{'and': 1,\n",
       " 'the': 2,\n",
       " 'a': 3,\n",
       " 'of': 4,\n",
       " 'with': 5,\n",
       " 'this': 6,\n",
       " 'is': 7,\n",
       " 'wine': 8,\n",
       " 'in': 9,\n",
       " 'flavors': 10,\n",
       " 'it': 11,\n",
       " 'to': 12,\n",
       " 'fruit': 13,\n",
       " 'on': 14,\n",
       " 'aromas': 15,\n",
       " 'palate': 16,\n",
       " 'finish': 17,\n",
       " 'that': 18,\n",
       " 'acidity': 19,\n",
       " 'drink': 20,\n",
       " 'but': 21,\n",
       " 'tannins': 22,\n",
       " 'from': 23,\n",
       " 'black': 24,\n",
       " 'cherry': 25,\n",
       " \"it's\": 26,\n",
       " 'ripe': 27,\n",
       " 'has': 28,\n",
       " 'are': 29,\n",
       " 'for': 30,\n",
       " 'red': 31,\n",
       " 'by': 32,\n",
       " 'notes': 33,\n",
       " 'spice': 34,\n",
       " 'rich': 35,\n",
       " 'an': 36,\n",
       " 'as': 37,\n",
       " 'berry': 38,\n",
       " 'fresh': 39,\n",
       " 'its': 40,\n",
       " 'oak': 41,\n",
       " 'dry': 42,\n",
       " 'now': 43,\n",
       " 'nose': 44,\n",
       " 'soft': 45,\n",
       " 'full': 46,\n",
       " 'plum': 47,\n",
       " 'well': 48,\n",
       " 'light': 49,\n",
       " 'offers': 50,\n",
       " 'sweet': 51,\n",
       " 'fruits': 52,\n",
       " 'texture': 53,\n",
       " 'apple': 54,\n",
       " 'blend': 55,\n",
       " 'crisp': 56,\n",
       " 'white': 57,\n",
       " 'cabernet': 58,\n",
       " 'blackberry': 59,\n",
       " 'dark': 60,\n",
       " 'while': 61,\n",
       " 'pepper': 62,\n",
       " 'shows': 63,\n",
       " 'bodied': 64,\n",
       " 'bright': 65,\n",
       " 'vanilla': 66,\n",
       " 'fruity': 67,\n",
       " 'citrus': 68,\n",
       " 'more': 69,\n",
       " 'through': 70,\n",
       " 'at': 71,\n",
       " 'good': 72,\n",
       " 'very': 73,\n",
       " 'green': 74,\n",
       " 'juicy': 75,\n",
       " 'some': 76,\n",
       " 'firm': 77,\n",
       " 'raspberry': 78,\n",
       " 'dried': 79,\n",
       " 'chocolate': 80,\n",
       " 'character': 81,\n",
       " 'balanced': 82,\n",
       " 'lemon': 83,\n",
       " 'peach': 84,\n",
       " 'or': 85,\n",
       " 'sauvignon': 86,\n",
       " 'will': 87,\n",
       " 'not': 88,\n",
       " 'spicy': 89,\n",
       " 'like': 90,\n",
       " 'years': 91,\n",
       " 'smooth': 92,\n",
       " 'also': 93,\n",
       " 'up': 94,\n",
       " 'all': 95,\n",
       " 'pear': 96,\n",
       " 'structure': 97,\n",
       " 'touch': 98,\n",
       " 'medium': 99,\n",
       " 'hint': 100,\n",
       " 'give': 101,\n",
       " 'mineral': 102,\n",
       " 'out': 103,\n",
       " 'tart': 104,\n",
       " 'wood': 105,\n",
       " 'currant': 106,\n",
       " 'be': 107,\n",
       " 'herbal': 108,\n",
       " 'into': 109,\n",
       " 'concentrated': 110,\n",
       " 'long': 111,\n",
       " 'tannic': 112,\n",
       " 'merlot': 113,\n",
       " 'herb': 114,\n",
       " 'pinot': 115,\n",
       " 'alongside': 116,\n",
       " 'still': 117,\n",
       " 'style': 118,\n",
       " 'fine': 119,\n",
       " 'flavor': 120,\n",
       " 'just': 121,\n",
       " 'made': 122,\n",
       " 'licorice': 123,\n",
       " 'slightly': 124,\n",
       " 'note': 125,\n",
       " 'syrah': 126,\n",
       " 'there': 127,\n",
       " 'clean': 128,\n",
       " 'bit': 129,\n",
       " 'creamy': 130,\n",
       " 'earthy': 131,\n",
       " 'balance': 132,\n",
       " 'toast': 133,\n",
       " \"there's\": 134,\n",
       " 'tobacco': 135,\n",
       " 'ready': 136,\n",
       " 'one': 137,\n",
       " 'mouth': 138,\n",
       " 'opens': 139,\n",
       " 'vineyard': 140,\n",
       " 'dense': 141,\n",
       " 'so': 142,\n",
       " 'than': 143,\n",
       " 'along': 144,\n",
       " 'savory': 145,\n",
       " 'orange': 146,\n",
       " 'over': 147,\n",
       " 'structured': 148,\n",
       " 'lime': 149,\n",
       " 'great': 150,\n",
       " 'lead': 151,\n",
       " 'easy': 152,\n",
       " 'yet': 153,\n",
       " 'delivers': 154,\n",
       " 'age': 155,\n",
       " 'mouthfeel': 156,\n",
       " 'aging': 157,\n",
       " 'cola': 158,\n",
       " 'elegant': 159,\n",
       " 'leather': 160,\n",
       " 'stone': 161,\n",
       " 'tight': 162,\n",
       " 'feel': 163,\n",
       " 'coffee': 164,\n",
       " 'which': 165,\n",
       " 'melon': 166,\n",
       " 'pineapple': 167,\n",
       " 'herbs': 168,\n",
       " 'smoky': 169,\n",
       " 'new': 170,\n",
       " 'hints': 171,\n",
       " 'delicious': 172,\n",
       " 'grapefruit': 173,\n",
       " 'cassis': 174,\n",
       " 'honey': 175,\n",
       " 'chardonnay': 176,\n",
       " 'color': 177,\n",
       " 'lively': 178,\n",
       " 'solid': 179,\n",
       " 'complex': 180,\n",
       " 'time': 181,\n",
       " 'clove': 182,\n",
       " 'big': 183,\n",
       " 'simple': 184,\n",
       " 'vintage': 185,\n",
       " 'attractive': 186,\n",
       " \"that's\": 187,\n",
       " 'weight': 188,\n",
       " 'cherries': 189,\n",
       " 'lightly': 190,\n",
       " 'feels': 191,\n",
       " 'showing': 192,\n",
       " 'apricot': 193,\n",
       " 'bitter': 194,\n",
       " 'strawberry': 195,\n",
       " 'show': 196,\n",
       " 'almost': 197,\n",
       " 'intense': 198,\n",
       " 'round': 199,\n",
       " 'wild': 200,\n",
       " 'plenty': 201,\n",
       " 'come': 202,\n",
       " 'freshness': 203,\n",
       " 'pretty': 204,\n",
       " 'best': 205,\n",
       " 'make': 206,\n",
       " 'off': 207,\n",
       " 'richness': 208,\n",
       " 'dusty': 209,\n",
       " 'crushed': 210,\n",
       " 'little': 211,\n",
       " 'you': 212,\n",
       " 'finishes': 213,\n",
       " 'baked': 214,\n",
       " 'toasted': 215,\n",
       " 'yellow': 216,\n",
       " 'blueberry': 217,\n",
       " 'refreshing': 218,\n",
       " 'body': 219,\n",
       " 'tastes': 220,\n",
       " 'cinnamon': 221,\n",
       " 'alcohol': 222,\n",
       " 'after': 223,\n",
       " 'high': 224,\n",
       " 'gives': 225,\n",
       " 'quite': 226,\n",
       " 'minerality': 227,\n",
       " 'scents': 228,\n",
       " 'mature': 229,\n",
       " 'cranberry': 230,\n",
       " 'core': 231,\n",
       " 'concentration': 232,\n",
       " 'franc': 233,\n",
       " 'generous': 234,\n",
       " 'barrel': 235,\n",
       " 'floral': 236,\n",
       " 'rather': 237,\n",
       " 'spices': 238,\n",
       " 'drinking': 239,\n",
       " 'much': 240,\n",
       " 'flower': 241,\n",
       " 'bottling': 242,\n",
       " 'pair': 243,\n",
       " 'tangy': 244,\n",
       " 'silky': 245,\n",
       " 'edge': 246,\n",
       " 'tropical': 247,\n",
       " 'together': 248,\n",
       " 'mix': 249,\n",
       " 'blanc': 250,\n",
       " 'noir': 251,\n",
       " 'young': 252,\n",
       " 'should': 253,\n",
       " 'sweetness': 254,\n",
       " 'almond': 255,\n",
       " 'both': 256,\n",
       " 'complexity': 257,\n",
       " 'perfumed': 258,\n",
       " 'comes': 259,\n",
       " 'bold': 260,\n",
       " 'offering': 261,\n",
       " 'oaky': 262,\n",
       " 'aftertaste': 263,\n",
       " 'grape': 264,\n",
       " 'glass': 265,\n",
       " 'toasty': 266,\n",
       " 'roasted': 267,\n",
       " 'sour': 268,\n",
       " 'layers': 269,\n",
       " 'zesty': 270,\n",
       " 'mint': 271,\n",
       " 'enough': 272,\n",
       " 'earth': 273,\n",
       " 'mocha': 274,\n",
       " 'zest': 275,\n",
       " 'strong': 276,\n",
       " 'lean': 277,\n",
       " 'tones': 278,\n",
       " 'way': 279,\n",
       " 'then': 280,\n",
       " 'deep': 281,\n",
       " 'smoke': 282,\n",
       " 'grapes': 283,\n",
       " 'caramel': 284,\n",
       " 'jammy': 285,\n",
       " 'cedar': 286,\n",
       " 'heavy': 287,\n",
       " 'bottle': 288,\n",
       " 'berries': 289,\n",
       " 'wines': 290,\n",
       " 'powerful': 291,\n",
       " 'estate': 292,\n",
       " '2017': 293,\n",
       " 'vibrant': 294,\n",
       " 'have': 295,\n",
       " 'thick': 296,\n",
       " 'too': 297,\n",
       " 'depth': 298,\n",
       " 'aged': 299,\n",
       " 'meat': 300,\n",
       " 'rose': 301,\n",
       " 'espresso': 302,\n",
       " 'delicate': 303,\n",
       " 'warm': 304,\n",
       " 'followed': 305,\n",
       " 'few': 306,\n",
       " 'flowers': 307,\n",
       " 'candied': 308,\n",
       " 'nice': 309,\n",
       " '2018': 310,\n",
       " 'here': 311,\n",
       " 'lush': 312,\n",
       " 'year': 313,\n",
       " 'riesling': 314,\n",
       " 'supple': 315,\n",
       " 'textured': 316,\n",
       " 'malbec': 317,\n",
       " 'varietal': 318,\n",
       " 'whiff': 319,\n",
       " 'end': 320,\n",
       " 'seems': 321,\n",
       " 'packed': 322,\n",
       " 'forward': 323,\n",
       " 'right': 324,\n",
       " 'rounded': 325,\n",
       " 'tangerine': 326,\n",
       " 'before': 327,\n",
       " 'giving': 328,\n",
       " 'sangiovese': 329,\n",
       " 'lingering': 330,\n",
       " 'blackberries': 331,\n",
       " 'grilled': 332,\n",
       " 'can': 333,\n",
       " 'fruitiness': 334,\n",
       " 'layered': 335,\n",
       " 'peppery': 336,\n",
       " 'sharp': 337,\n",
       " 'currants': 338,\n",
       " 'hard': 339,\n",
       " 'variety': 340,\n",
       " 'intensity': 341,\n",
       " 'aromatic': 342,\n",
       " 'food': 343,\n",
       " 'brings': 344,\n",
       " 'pleasant': 345,\n",
       " 'side': 346,\n",
       " 'nectarine': 347,\n",
       " 'grenache': 348,\n",
       " 'cool': 349,\n",
       " 'makes': 350,\n",
       " 'brisk': 351,\n",
       " 'most': 352,\n",
       " '10': 353,\n",
       " \"wine's\": 354,\n",
       " 'tomato': 355,\n",
       " 'velvety': 356,\n",
       " 'peel': 357,\n",
       " 'finishing': 358,\n",
       " 'first': 359,\n",
       " 'around': 360,\n",
       " 'anise': 361,\n",
       " 'vineyards': 362,\n",
       " 'valley': 363,\n",
       " 'next': 364,\n",
       " 'old': 365,\n",
       " 'exotic': 366,\n",
       " 'tea': 367,\n",
       " 'although': 368,\n",
       " 'months': 369,\n",
       " 'leaf': 370,\n",
       " 'chewy': 371,\n",
       " 'close': 372,\n",
       " 'fragrant': 373,\n",
       " 'acids': 374,\n",
       " 'price': 375,\n",
       " 'taste': 376,\n",
       " 'carry': 377,\n",
       " 'cut': 378,\n",
       " 'would': 379,\n",
       " 'quality': 380,\n",
       " 'petit': 381,\n",
       " 'french': 382,\n",
       " 'baking': 383,\n",
       " 'subtle': 384,\n",
       " '100': 385,\n",
       " 'impressive': 386,\n",
       " 'develop': 387,\n",
       " 'if': 388,\n",
       " 'racy': 389,\n",
       " 'accents': 390,\n",
       " 'prune': 391,\n",
       " 'sugar': 392,\n",
       " 'expression': 393,\n",
       " 'tannin': 394,\n",
       " 'polished': 395,\n",
       " 'elegance': 396,\n",
       " 'pure': 397,\n",
       " 'bouquet': 398,\n",
       " 'verdot': 399,\n",
       " 'sense': 400,\n",
       " 'violet': 401,\n",
       " 'could': 402,\n",
       " 'already': 403,\n",
       " 'soon': 404,\n",
       " 'open': 405,\n",
       " 'jam': 406,\n",
       " 'potential': 407,\n",
       " 'lots': 408,\n",
       " 'skin': 409,\n",
       " 'without': 410,\n",
       " 'was': 411,\n",
       " 'blossom': 412,\n",
       " 'other': 413,\n",
       " 'cocoa': 414,\n",
       " 'backed': 415,\n",
       " 'many': 416,\n",
       " 'two': 417,\n",
       " 'integrated': 418,\n",
       " 'vines': 419,\n",
       " 'between': 420,\n",
       " 'pie': 421,\n",
       " 'cab': 422,\n",
       " 'power': 423,\n",
       " 'sage': 424,\n",
       " 'rustic': 425,\n",
       " 'aroma': 426,\n",
       " 'wet': 427,\n",
       " '50': 428,\n",
       " 'pink': 429,\n",
       " 'beef': 430,\n",
       " 'overall': 431,\n",
       " 'mild': 432,\n",
       " 'interesting': 433,\n",
       " 'needs': 434,\n",
       " 'raspberries': 435,\n",
       " '2016': 436,\n",
       " \"here's\": 437,\n",
       " 'accented': 438,\n",
       " 'classic': 439,\n",
       " 'forest': 440,\n",
       " 'sip': 441,\n",
       " '2019': 442,\n",
       " 'low': 443,\n",
       " 'ros茅': 444,\n",
       " 'no': 445,\n",
       " 'does': 446,\n",
       " '2020': 447,\n",
       " 'produced': 448,\n",
       " 'focused': 449,\n",
       " 'cellar': 450,\n",
       " 'beautiful': 451,\n",
       " 'driven': 452,\n",
       " 'based': 453,\n",
       " 'plums': 454,\n",
       " 'touches': 455,\n",
       " 'plump': 456,\n",
       " 'adds': 457,\n",
       " 'citrusy': 458,\n",
       " 'though': 459,\n",
       " 'smoked': 460,\n",
       " 'acid': 461,\n",
       " 'enjoy': 462,\n",
       " 'olive': 463,\n",
       " 'candy': 464,\n",
       " 'fermented': 465,\n",
       " 'somewhat': 466,\n",
       " 'short': 467,\n",
       " 'length': 468,\n",
       " 'perfect': 469,\n",
       " 'bordeaux': 470,\n",
       " 'even': 471,\n",
       " 'lovely': 472,\n",
       " 'now鈥': 473,\n",
       " 'purple': 474,\n",
       " 'raisin': 475,\n",
       " 'about': 476,\n",
       " 'flavored': 477,\n",
       " 'set': 478,\n",
       " 'top': 479,\n",
       " 'underbrush': 480,\n",
       " '20': 481,\n",
       " 'spiced': 482,\n",
       " 'astringent': 483,\n",
       " 'back': 484,\n",
       " 'cake': 485,\n",
       " 'ripeness': 486,\n",
       " 'chunky': 487,\n",
       " 'gentle': 488,\n",
       " 'same': 489,\n",
       " 'add': 490,\n",
       " 'petite': 491,\n",
       " 'nicely': 492,\n",
       " 'smells': 493,\n",
       " 'another': 494,\n",
       " 'minty': 495,\n",
       " \"don't\": 496,\n",
       " 'opulent': 497,\n",
       " 'fairly': 498,\n",
       " 'thyme': 499,\n",
       " 'straightforward': 500,\n",
       " 'honeysuckle': 501,\n",
       " 'woody': 502,\n",
       " 'lot': 503,\n",
       " 'only': 504,\n",
       " 'mango': 505,\n",
       " '15': 506,\n",
       " 'winery': 507,\n",
       " 'suggest': 508,\n",
       " 'fleshy': 509,\n",
       " 'blue': 510,\n",
       " 'graphite': 511,\n",
       " 'sirah': 512,\n",
       " 'lift': 513,\n",
       " 'density': 514,\n",
       " 'nutmeg': 515,\n",
       " 'appealing': 516,\n",
       " 'fig': 517,\n",
       " 'coconut': 518,\n",
       " 'approachable': 519,\n",
       " 'viognier': 520,\n",
       " 'modest': 521,\n",
       " 'provides': 522,\n",
       " 'broad': 523,\n",
       " 'grown': 524,\n",
       " 'apples': 525,\n",
       " 'elements': 526,\n",
       " 'heat': 527,\n",
       " 'mourv猫dre': 528,\n",
       " 'honeyed': 529,\n",
       " 'keep': 530,\n",
       " 'across': 531,\n",
       " 'value': 532,\n",
       " 'features': 533,\n",
       " 'ample': 534,\n",
       " 'lychee': 535,\n",
       " 'varieties': 536,\n",
       " 'streak': 537,\n",
       " 'cream': 538,\n",
       " 'grained': 539,\n",
       " 'tar': 540,\n",
       " 'their': 541,\n",
       " 'plush': 542,\n",
       " 'rubbery': 543,\n",
       " 'need': 544,\n",
       " 'california': 545,\n",
       " 'raw': 546,\n",
       " 'hot': 547,\n",
       " 'flat': 548,\n",
       " 'background': 549,\n",
       " 'brown': 550,\n",
       " 'yeasty': 551,\n",
       " 'intriguing': 552,\n",
       " 'juice': 553,\n",
       " 'front': 554,\n",
       " 'chopped': 555,\n",
       " 'butter': 556,\n",
       " 'refined': 557,\n",
       " 'mouthwatering': 558,\n",
       " 'those': 559,\n",
       " 'dominate': 560,\n",
       " 'drying': 561,\n",
       " 'balsamic': 562,\n",
       " 'menthol': 563,\n",
       " 'richly': 564,\n",
       " 'take': 565,\n",
       " '5': 566,\n",
       " 'effort': 567,\n",
       " 'bone': 568,\n",
       " 'dishes': 569,\n",
       " 'what': 570,\n",
       " 'excellent': 571,\n",
       " 'bacon': 572,\n",
       " 'despite': 573,\n",
       " 'family': 574,\n",
       " 'lemony': 575,\n",
       " 'really': 576,\n",
       " 'drinkable': 577,\n",
       " 'accent': 578,\n",
       " 'floor': 579,\n",
       " 'natural': 580,\n",
       " 'golden': 581,\n",
       " 'region': 582,\n",
       " 'against': 583,\n",
       " '30': 584,\n",
       " 'least': 585,\n",
       " \"winery's\": 586,\n",
       " 'nut': 587,\n",
       " \"doesn't\": 588,\n",
       " 'friendly': 589,\n",
       " 'personality': 590,\n",
       " 'stage': 591,\n",
       " 'suggests': 592,\n",
       " 'basic': 593,\n",
       " 'expressive': 594,\n",
       " 'pith': 595,\n",
       " 'six': 596,\n",
       " 'mildly': 597,\n",
       " 'charred': 598,\n",
       " 'entry': 599,\n",
       " 'provide': 600,\n",
       " 'sourced': 601,\n",
       " 'slight': 602,\n",
       " 'wrapped': 603,\n",
       " 'get': 604,\n",
       " 'where': 605,\n",
       " 'beautifully': 606,\n",
       " 'making': 607,\n",
       " 'example': 608,\n",
       " 'carries': 609,\n",
       " 'tasty': 610,\n",
       " 'seem': 611,\n",
       " 'minerally': 612,\n",
       " 'include': 613,\n",
       " 'toward': 614,\n",
       " 'extracted': 615,\n",
       " 'small': 616,\n",
       " '2015': 617,\n",
       " 'lighter': 618,\n",
       " 'briny': 619,\n",
       " 'soil': 620,\n",
       " 'appellation': 621,\n",
       " 'intensely': 622,\n",
       " 'frame': 623,\n",
       " 'succulent': 624,\n",
       " 'framed': 625,\n",
       " 'find': 626,\n",
       " 'may': 627,\n",
       " 'blended': 628,\n",
       " 'screwcap': 629,\n",
       " 'prosecco': 630,\n",
       " 'any': 631,\n",
       " 'try': 632,\n",
       " 'go': 633,\n",
       " 'serious': 634,\n",
       " 'better': 635,\n",
       " 'dominated': 636,\n",
       " 'appeal': 637,\n",
       " 'midpalate': 638,\n",
       " 'robust': 639,\n",
       " 'grass': 640,\n",
       " 'feeling': 641,\n",
       " 'kiwi': 642,\n",
       " 'known': 643,\n",
       " 'acidic': 644,\n",
       " 'fully': 645,\n",
       " 'enticing': 646,\n",
       " 'summer': 647,\n",
       " 'boysenberry': 648,\n",
       " 'loaded': 649,\n",
       " 'level': 650,\n",
       " 'stewed': 651,\n",
       " 'until': 652,\n",
       " 'your': 653,\n",
       " 'extra': 654,\n",
       " 'typical': 655,\n",
       " 'bean': 656,\n",
       " 'mellow': 657,\n",
       " 'leafy': 658,\n",
       " 'buttered': 659,\n",
       " 'gritty': 660,\n",
       " 'pencil': 661,\n",
       " 'reveals': 662,\n",
       " 'cru': 663,\n",
       " 'marked': 664,\n",
       " 'boasts': 665,\n",
       " 'inviting': 666,\n",
       " 'tightly': 667,\n",
       " 'grip': 668,\n",
       " 'given': 669,\n",
       " 'mostly': 670,\n",
       " 'three': 671,\n",
       " 'been': 672,\n",
       " 'luscious': 673,\n",
       " 'support': 674,\n",
       " 'grippy': 675,\n",
       " 'rubber': 676,\n",
       " '60': 677,\n",
       " 'pleasing': 678,\n",
       " 'leathery': 679,\n",
       " 'further': 680,\n",
       " 'milk': 681,\n",
       " 'sandalwood': 682,\n",
       " 'stalky': 683,\n",
       " 'restrained': 684,\n",
       " 'complete': 685,\n",
       " 'taut': 686,\n",
       " 'strongly': 687,\n",
       " 'sauce': 688,\n",
       " 'part': 689,\n",
       " 'bitterness': 690,\n",
       " 'grassy': 691,\n",
       " 'easygoing': 692,\n",
       " 'skinned': 693,\n",
       " 'overripe': 694,\n",
       " 'salty': 695,\n",
       " 'leaves': 696,\n",
       " 'pears': 697,\n",
       " 'ginger': 698,\n",
       " 'barolo': 699,\n",
       " 'slate': 700,\n",
       " 'lifted': 701,\n",
       " 'moderate': 702,\n",
       " 'star': 703,\n",
       " 'unusual': 704,\n",
       " 'filling': 705,\n",
       " 'pine': 706,\n",
       " 'mountain': 707,\n",
       " '12': 708,\n",
       " 'down': 709,\n",
       " \"you'll\": 710,\n",
       " 'lingers': 711,\n",
       " 'nutty': 712,\n",
       " 'bell': 713,\n",
       " 'bracing': 714,\n",
       " 'final': 715,\n",
       " 'late': 716,\n",
       " 'softly': 717,\n",
       " 'coming': 718,\n",
       " 'linger': 719,\n",
       " 'generic': 720,\n",
       " 'certainly': 721,\n",
       " 'chalky': 722,\n",
       " 'meaty': 723,\n",
       " 'recall': 724,\n",
       " 'passion': 725,\n",
       " 'climate': 726,\n",
       " 'syrupy': 727,\n",
       " 'char': 728,\n",
       " 'game': 729,\n",
       " 'freshly': 730,\n",
       " 'assertive': 731,\n",
       " 'skins': 732,\n",
       " 'run': 733,\n",
       " 'zinfandel': 734,\n",
       " 'early': 735,\n",
       " 'keeps': 736,\n",
       " 'truffle': 737,\n",
       " 'lavender': 738,\n",
       " 'ends': 739,\n",
       " 'peaches': 740,\n",
       " 'starts': 741,\n",
       " 'likely': 742,\n",
       " 'easily': 743,\n",
       " 'pithy': 744,\n",
       " 'tasting': 745,\n",
       " 'wonderful': 746,\n",
       " 'backbone': 747,\n",
       " 'throughout': 748,\n",
       " 'profile': 749,\n",
       " 'gooseberry': 750,\n",
       " 'mixed': 751,\n",
       " 'oily': 752,\n",
       " 'plus': 753,\n",
       " 'asian': 754,\n",
       " 'different': 755,\n",
       " 'lend': 756,\n",
       " 'immediately': 757,\n",
       " 'subdued': 758,\n",
       " 'they': 759,\n",
       " 'accessible': 760,\n",
       " 'linear': 761,\n",
       " 'five': 762,\n",
       " 'dill': 763,\n",
       " 'suggesting': 764,\n",
       " 'mid': 765,\n",
       " 'meats': 766,\n",
       " 'tough': 767,\n",
       " 'barrels': 768,\n",
       " 'gorgeous': 769,\n",
       " 'ap茅ritif': 770,\n",
       " 'saturated': 771,\n",
       " 'de': 772,\n",
       " 'southern': 773,\n",
       " 'rhubarb': 774,\n",
       " 'zin': 775,\n",
       " 'firmly': 776,\n",
       " 'additional': 777,\n",
       " 'future': 778,\n",
       " 'less': 779,\n",
       " 'sparkler': 780,\n",
       " 'burnt': 781,\n",
       " 'soften': 782,\n",
       " 'buttery': 783,\n",
       " 'bite': 784,\n",
       " 'single': 785,\n",
       " 'lasting': 786,\n",
       " 'rind': 787,\n",
       " 'rough': 788,\n",
       " 'otherwise': 789,\n",
       " 'range': 790,\n",
       " 'nero': 791,\n",
       " 'herbaceous': 792,\n",
       " 'meet': 793,\n",
       " 'tone': 794,\n",
       " 'mark': 795,\n",
       " 'might': 796,\n",
       " 'nuances': 797,\n",
       " 'perfectly': 798,\n",
       " 'honeydew': 799,\n",
       " 'offer': 800,\n",
       " 'blends': 801,\n",
       " 'citric': 802,\n",
       " 'spring': 803,\n",
       " 'crispness': 804,\n",
       " 'violets': 805,\n",
       " 'reserve': 806,\n",
       " 'compelling': 807,\n",
       " 'lacks': 808,\n",
       " 'petal': 809,\n",
       " 'papaya': 810,\n",
       " 'pomegranate': 811,\n",
       " 'northern': 812,\n",
       " 'sparkling': 813,\n",
       " 'always': 814,\n",
       " 'relatively': 815,\n",
       " 'selection': 816,\n",
       " 'colored': 817,\n",
       " 'loads': 818,\n",
       " '40': 819,\n",
       " 'producer': 820,\n",
       " 'entirely': 821,\n",
       " 'rare': 822,\n",
       " 'help': 823,\n",
       " 'steel': 824,\n",
       " 'hearty': 825,\n",
       " 'priced': 826,\n",
       " 'whole': 827,\n",
       " 'cured': 828,\n",
       " 'brooding': 829,\n",
       " 'table': 830,\n",
       " 'addition': 831,\n",
       " 'pressed': 832,\n",
       " 'each': 833,\n",
       " 'grigio': 834,\n",
       " 'gold': 835,\n",
       " 'keeping': 836,\n",
       " 'huge': 837,\n",
       " 'combines': 838,\n",
       " 'sophisticated': 839,\n",
       " 'austere': 840,\n",
       " 'planted': 841,\n",
       " 'who': 842,\n",
       " 'once': 843,\n",
       " '2018鈥': 844,\n",
       " 'element': 845,\n",
       " 'emerge': 846,\n",
       " 'last': 847,\n",
       " 'purity': 848,\n",
       " 'apricots': 849,\n",
       " 'almonds': 850,\n",
       " 'leads': 851,\n",
       " 'improve': 852,\n",
       " 'mediterranean': 853,\n",
       " 'flavorful': 854,\n",
       " 'mushroom': 855,\n",
       " 'match': 856,\n",
       " 'do': 857,\n",
       " 'sugary': 858,\n",
       " 'combine': 859,\n",
       " 'resin': 860,\n",
       " 'meyer': 861,\n",
       " 'chocolaty': 862,\n",
       " 'being': 863,\n",
       " 'ch芒teau': 864,\n",
       " 'away': 865,\n",
       " 'overly': 866,\n",
       " 'stainless': 867,\n",
       " 'informal': 868,\n",
       " 'supported': 869,\n",
       " 'toned': 870,\n",
       " 'neutral': 871,\n",
       " 'residual': 872,\n",
       " 'laced': 873,\n",
       " 'slowly': 874,\n",
       " 'hay': 875,\n",
       " 'balancing': 876,\n",
       " 'turn': 877,\n",
       " 'bread': 878,\n",
       " 'marks': 879,\n",
       " 'substantial': 880,\n",
       " 'nuanced': 881,\n",
       " 'leading': 882,\n",
       " 'leaving': 883,\n",
       " 'buy': 884,\n",
       " 'asphalt': 885,\n",
       " 'syrup': 886,\n",
       " 'quickly': 887,\n",
       " '2022': 888,\n",
       " 'italy': 889,\n",
       " 'carmen猫re': 890,\n",
       " 'luminous': 891,\n",
       " 'mouthfilling': 892,\n",
       " 'crafted': 893,\n",
       " 'rh么ne': 894,\n",
       " 'opening': 895,\n",
       " 'quince': 896,\n",
       " 'cheese': 897,\n",
       " 'amount': 898,\n",
       " 'pasta': 899,\n",
       " 'tempranillo': 900,\n",
       " 'real': 901,\n",
       " 'displays': 902,\n",
       " 'upfront': 903,\n",
       " 'softness': 904,\n",
       " 'yeast': 905,\n",
       " 'hold': 906,\n",
       " 'line': 907,\n",
       " 'name': 908,\n",
       " 'own': 909,\n",
       " 'vivid': 910,\n",
       " 'focus': 911,\n",
       " 'banana': 912,\n",
       " 'closes': 913,\n",
       " 'lengthy': 914,\n",
       " 'middle': 915,\n",
       " 'itself': 916,\n",
       " 'richer': 917,\n",
       " 'start': 918,\n",
       " 'pleasantly': 919,\n",
       " 'grabby': 920,\n",
       " 'cigar': 921,\n",
       " 'extract': 922,\n",
       " 'mingle': 923,\n",
       " 'nature': 924,\n",
       " 'production': 925,\n",
       " 'form': 926,\n",
       " 'jasmine': 927,\n",
       " 'label': 928,\n",
       " 'play': 929,\n",
       " 'seafood': 930,\n",
       " 'fat': 931,\n",
       " 'prominent': 932,\n",
       " 'elegantly': 933,\n",
       " 'holds': 934,\n",
       " 'heady': 935,\n",
       " 'steely': 936,\n",
       " 'defined': 937,\n",
       " 'world': 938,\n",
       " 'his': 939,\n",
       " 'deliciously': 940,\n",
       " 'muted': 941,\n",
       " 'promising': 942,\n",
       " 'named': 943,\n",
       " 'drinks': 944,\n",
       " 'everything': 945,\n",
       " 'things': 946,\n",
       " 'tonic': 947,\n",
       " 'waves': 948,\n",
       " 's茅millon': 949,\n",
       " 'thanks': 950,\n",
       " 'impression': 951,\n",
       " 'napa': 952,\n",
       " 'blueberries': 953,\n",
       " '2鈥': 954,\n",
       " 'work': 955,\n",
       " 'fragrance': 956,\n",
       " 'especially': 957,\n",
       " 'heart': 958,\n",
       " 'promise': 959,\n",
       " 'property': 960,\n",
       " 'gets': 961,\n",
       " 'warmth': 962,\n",
       " 'dessert': 963,\n",
       " 'bring': 964,\n",
       " \"isn't\": 965,\n",
       " 'snappy': 966,\n",
       " 'box': 967,\n",
       " 'distinctive': 968,\n",
       " 'compact': 969,\n",
       " 'saucy': 970,\n",
       " 'heavily': 971,\n",
       " 'riper': 972,\n",
       " 'sleek': 973,\n",
       " \"d'avola\": 974,\n",
       " 'dryness': 975,\n",
       " '2010': 976,\n",
       " 'barbecue': 977,\n",
       " 'inky': 978,\n",
       " 'added': 979,\n",
       " 'salt': 980,\n",
       " 'pizza': 981,\n",
       " 'nuts': 982,\n",
       " 'such': 983,\n",
       " 'waft': 984,\n",
       " 'shy': 985,\n",
       " 'pastry': 986,\n",
       " 'shape': 987,\n",
       " 'satisfying': 988,\n",
       " 'pairing': 989,\n",
       " '020': 990,\n",
       " 'kick': 991,\n",
       " 'cooked': 992,\n",
       " 'eucalyptus': 993,\n",
       " 'harmonious': 994,\n",
       " 'brunello': 995,\n",
       " 'heft': 996,\n",
       " 'touriga': 997,\n",
       " 'moderately': 998,\n",
       " 'allow': 999,\n",
       " 'drunk': 1000,\n",
       " ...}"
      ]
     },
     "execution_count": 6,
     "metadata": {},
     "output_type": "execute_result"
    }
   ],
   "source": [
    "word_index  "
   ]
  },
  {
   "cell_type": "code",
   "execution_count": 7,
   "metadata": {
    "collapsed": true
   },
   "outputs": [],
   "source": [
    "import json\n",
    "jsObj = json.dumps(word_index)  \n",
    "  \n",
    "fileObject = open('F:/Machine learning/word_index.json', 'w')  \n",
    "fileObject.write(jsObj)  \n",
    "fileObject.close()  "
   ]
  },
  {
   "cell_type": "code",
   "execution_count": 8,
   "metadata": {
    "collapsed": true
   },
   "outputs": [],
   "source": [
    "sequences = tokenizer.texts_to_sequences(seq)\n",
    "final_sequences=sequence.pad_sequences(sequences,maxlen=100)"
   ]
  },
  {
   "cell_type": "code",
   "execution_count": 9,
   "metadata": {
    "collapsed": true
   },
   "outputs": [],
   "source": [
    "df['points'] = pd.cut(df['points'],[0,87,1e6],labels=['normal','good']) # this creates a new variable\n",
    "df.points.replace(to_replace = ['normal','good'],\n",
    "                   value = range(2), inplace = True)"
   ]
  },
  {
   "cell_type": "code",
   "execution_count": 10,
   "metadata": {
    "collapsed": true
   },
   "outputs": [],
   "source": [
    "label=df['points']"
   ]
  },
  {
   "cell_type": "markdown",
   "metadata": {},
   "source": [
    "## 1.2 Evaluation Metrics"
   ]
  },
  {
   "cell_type": "markdown",
   "metadata": {},
   "source": [
    "We will use accuracy as the metric to judge the performance of our model. Accuracy refers to the closeness of a measured value to a known value. In our case, we mean the proportion of correct results that a classifier achieved. The possible classification cases include 4 cases. Either the classifier got a positive example labeled as positive (true positive), or it made a mistake and marked it as negative (false negative). Conversely, a negative example may have been (mis)labeled as positive (false positive), or correctly guessed negative (true negative). Accuracy is the proportion of the total true positive and true negative numbers in the total classification numbers. In the case of unbalanced prediction, such as 0 predicted positive or 0 predicted negative, accuracy would not be a good indicator of model performance. Precision, recall, or F-score would be good metrics. But in our case, our data are almost balanced, which means each class contains almost the same number of observations in the data set. The predicted matrics would also be balanced. Therefore, it is approapriate to use accuracy as our evaluation metric."
   ]
  },
  {
   "cell_type": "markdown",
   "metadata": {},
   "source": [
    "## 1.3 Data Splitting"
   ]
  },
  {
   "cell_type": "markdown",
   "metadata": {},
   "source": [
    "We will use data splitting to create the test and training data set, with 80% training data and 20% testing data. Since our dataset have large number of oberservations, using data splitting is a resonable method. Considering the split ratio, with less training data, the parameter estimates have greater variance while With less testing data, the performance statistic will have greater variance (https://stackoverflow.com/questions/13610074/is-there-a-rule-of-thumb-for-how-to-divide-a-dataset-into-training-and-validatio?utm_medium=organic&utm_source=google_rich_qa&utm_campaign=google_rich_qa). We would like a way to divide data such that neither variance is too high. The 80/20 is a good split ratio to be a trade-off of these two variances. "
   ]
  },
  {
   "cell_type": "code",
   "execution_count": 11,
   "metadata": {
    "collapsed": true
   },
   "outputs": [],
   "source": [
    "label=np.array(label)\n",
    "indices=np.random.permutation(len(final_sequences))\n",
    "X=final_sequences[indices]\n",
    "y=label[indices]\n",
    "# split data into training and test data \n",
    "Xtrain,Xtest,ytrain,ytest=train_test_split(X,y,test_size=0.2)"
   ]
  },
  {
   "cell_type": "code",
   "execution_count": 12,
   "metadata": {},
   "outputs": [
    {
     "data": {
      "text/plain": [
       "(2400, 100)"
      ]
     },
     "execution_count": 12,
     "metadata": {},
     "output_type": "execute_result"
    }
   ],
   "source": [
    "Xtrain.shape"
   ]
  },
  {
   "cell_type": "code",
   "execution_count": 13,
   "metadata": {},
   "outputs": [
    {
     "data": {
      "text/plain": [
       "array([[   0,    0,    0, ...,   67,  341,  223],\n",
       "       [   0,    0,    0, ...,  779,  644,   10],\n",
       "       [   0,    0,    0, ...,  111,   92,   17],\n",
       "       ...,\n",
       "       [   0,    0,    0, ..., 1002, 2559,    8],\n",
       "       [   0,    0,    0, ...,  322,    5,   19],\n",
       "       [   0,    0,    0, ...,  109,    2,   17]])"
      ]
     },
     "execution_count": 13,
     "metadata": {},
     "output_type": "execute_result"
    }
   ],
   "source": [
    "Xtrain"
   ]
  },
  {
   "cell_type": "code",
   "execution_count": 14,
   "metadata": {},
   "outputs": [
    {
     "data": {
      "text/plain": [
       "numpy.ndarray"
      ]
     },
     "execution_count": 14,
     "metadata": {},
     "output_type": "execute_result"
    }
   ],
   "source": [
    "type(Xtrain)"
   ]
  },
  {
   "cell_type": "code",
   "execution_count": 15,
   "metadata": {},
   "outputs": [
    {
     "data": {
      "text/plain": [
       "(2400, 100)"
      ]
     },
     "execution_count": 15,
     "metadata": {},
     "output_type": "execute_result"
    }
   ],
   "source": [
    "Xtrain.shape"
   ]
  },
  {
   "cell_type": "code",
   "execution_count": 16,
   "metadata": {},
   "outputs": [
    {
     "data": {
      "text/plain": [
       "array([1, 0, 0, ..., 1, 0, 0], dtype=int64)"
      ]
     },
     "execution_count": 16,
     "metadata": {},
     "output_type": "execute_result"
    }
   ],
   "source": [
    "ytrain"
   ]
  },
  {
   "cell_type": "code",
   "execution_count": 17,
   "metadata": {},
   "outputs": [
    {
     "data": {
      "text/plain": [
       "(2400,)"
      ]
     },
     "execution_count": 17,
     "metadata": {},
     "output_type": "execute_result"
    }
   ],
   "source": [
    "ytrain.shape"
   ]
  },
  {
   "cell_type": "markdown",
   "metadata": {},
   "source": [
    "# 2. Modeling"
   ]
  },
  {
   "cell_type": "markdown",
   "metadata": {},
   "source": [
    "## 2.1 Build two different recurrent network architectures "
   ]
  },
  {
   "cell_type": "markdown",
   "metadata": {},
   "source": [
    "We will build two different recurrent network architectures, LSTM and GRU. The embedding layer from scratch will be used in hte network. "
   ]
  },
  {
   "cell_type": "code",
   "execution_count": 18,
   "metadata": {
    "collapsed": true
   },
   "outputs": [],
   "source": [
    "top_words = 7000"
   ]
  },
  {
   "cell_type": "code",
   "execution_count": 19,
   "metadata": {
    "collapsed": true
   },
   "outputs": [],
   "source": [
    "def predict_acc(p1):\n",
    "    p3 = []\n",
    "    for i in p1:\n",
    "        if i > 0.5:\n",
    "            p3.append(1)\n",
    "        else:\n",
    "            p3.append(0)\n",
    "    return p3"
   ]
  },
  {
   "cell_type": "code",
   "execution_count": 20,
   "metadata": {
    "scrolled": false
   },
   "outputs": [
    {
     "name": "stdout",
     "output_type": "stream",
     "text": [
      "======= SimpleRNN ========\n",
      "_________________________________________________________________\n",
      "Layer (type)                 Output Shape              Param #   \n",
      "=================================================================\n",
      "input_1 (InputLayer)         (None, 100)               0         \n",
      "_________________________________________________________________\n",
      "embedding_1 (Embedding)      (None, 100, 50)           350000    \n",
      "_________________________________________________________________\n",
      "simple_rnn_1 (SimpleRNN)     (None, 50)                5050      \n",
      "_________________________________________________________________\n",
      "dense_1 (Dense)              (None, 1)                 51        \n",
      "=================================================================\n",
      "Total params: 355,101\n",
      "Trainable params: 355,101\n",
      "Non-trainable params: 0\n",
      "_________________________________________________________________\n",
      "None\n",
      "Train on 2400 samples, validate on 600 samples\n",
      "Epoch 1/3\n",
      "2400/2400 [==============================] - 4s 2ms/step - loss: 0.7186 - acc: 0.4975 - val_loss: 0.6884 - val_acc: 0.5217\n",
      "Epoch 2/3\n",
      "2400/2400 [==============================] - 3s 1ms/step - loss: 0.6843 - acc: 0.5517 - val_loss: 0.6771 - val_acc: 0.5533\n",
      "Epoch 3/3\n",
      "2400/2400 [==============================] - 2s 1ms/step - loss: 0.6560 - acc: 0.6171 - val_loss: 0.6646 - val_acc: 0.5933\n",
      "********ACCURACY IS BELOW**********\n",
      "0.5933333333333334\n",
      "======= LSTM ========\n",
      "_________________________________________________________________\n",
      "Layer (type)                 Output Shape              Param #   \n",
      "=================================================================\n",
      "input_1 (InputLayer)         (None, 100)               0         \n",
      "_________________________________________________________________\n",
      "embedding_1 (Embedding)      (None, 100, 50)           350000    \n",
      "_________________________________________________________________\n",
      "lstm_1 (LSTM)                (None, 50)                20200     \n",
      "_________________________________________________________________\n",
      "dense_2 (Dense)              (None, 1)                 51        \n",
      "=================================================================\n",
      "Total params: 370,251\n",
      "Trainable params: 370,251\n",
      "Non-trainable params: 0\n",
      "_________________________________________________________________\n",
      "None\n",
      "Train on 2400 samples, validate on 600 samples\n",
      "Epoch 1/3\n",
      "2400/2400 [==============================] - 8s 3ms/step - loss: 0.6589 - acc: 0.5863 - val_loss: 0.5875 - val_acc: 0.7350\n",
      "Epoch 2/3\n",
      "2400/2400 [==============================] - 6s 3ms/step - loss: 0.5295 - acc: 0.7517 - val_loss: 0.5443 - val_acc: 0.7350\n",
      "Epoch 3/3\n",
      "2400/2400 [==============================] - 7s 3ms/step - loss: 0.4315 - acc: 0.8158 - val_loss: 0.5149 - val_acc: 0.7933\n",
      "********ACCURACY IS BELOW**********\n",
      "0.7933333333333333\n",
      "======= GRU ========\n",
      "_________________________________________________________________\n",
      "Layer (type)                 Output Shape              Param #   \n",
      "=================================================================\n",
      "input_1 (InputLayer)         (None, 100)               0         \n",
      "_________________________________________________________________\n",
      "embedding_1 (Embedding)      (None, 100, 50)           350000    \n",
      "_________________________________________________________________\n",
      "gru_1 (GRU)                  (None, 50)                15150     \n",
      "_________________________________________________________________\n",
      "dense_3 (Dense)              (None, 1)                 51        \n",
      "=================================================================\n",
      "Total params: 365,201\n",
      "Trainable params: 365,201\n",
      "Non-trainable params: 0\n",
      "_________________________________________________________________\n",
      "None\n",
      "Train on 2400 samples, validate on 600 samples\n",
      "Epoch 1/3\n",
      "2400/2400 [==============================] - 8s 3ms/step - loss: 0.5679 - acc: 0.7154 - val_loss: 0.5018 - val_acc: 0.7433\n",
      "Epoch 2/3\n",
      "2400/2400 [==============================] - 6s 3ms/step - loss: 0.3727 - acc: 0.8500 - val_loss: 0.5651 - val_acc: 0.7850\n",
      "Epoch 3/3\n",
      "2400/2400 [==============================] - 6s 3ms/step - loss: 0.3203 - acc: 0.8629 - val_loss: 0.5447 - val_acc: 0.7867\n",
      "********ACCURACY IS BELOW**********\n",
      "0.7866666666666666\n"
     ]
    }
   ],
   "source": [
    "\n",
    "from keras.models import Sequential, Input, Model\n",
    "from keras.layers import Dense\n",
    "from keras.layers import LSTM, GRU, SimpleRNN\n",
    "from keras.layers.embeddings import Embedding\n",
    "NUM_CLASSES = 1\n",
    "EMBED_SIZE = 50\n",
    "rnns = []\n",
    "input_holder = Input(shape=(Xtrain.shape[1], ))\n",
    "shared_embed = Embedding(top_words, # input dimension (max int of OHE)\n",
    "                EMBED_SIZE, # output dimension size\n",
    "                input_length=100)(input_holder) # number of words in each sequence\n",
    "\n",
    "for func, name in zip([SimpleRNN, LSTM, GRU],[\"SimpleRNN\",\"LSTM\",\"GRU\"]):\n",
    "    \n",
    "    x = func(50,dropout=0.2, recurrent_dropout=0.2)(shared_embed)\n",
    "    x = Dense(NUM_CLASSES, activation='sigmoid')(x)\n",
    "    rnn=Model(inputs=input_holder,outputs=x)\n",
    "    rnn.compile(loss='binary_crossentropy', \n",
    "                  optimizer='rmsprop', \n",
    "                  metrics=['accuracy'])\n",
    "    \n",
    "    print('=======',name,'========')\n",
    "    print(rnn.summary())\n",
    "    rnn.fit(Xtrain, ytrain, epochs=3, batch_size=64, validation_data=(Xtest, ytest))\n",
    "    p1 = rnn.predict(Xtest)\n",
    "    yhat = predict_acc(p1)\n",
    "    acc = mt.accuracy_score(ytest,yhat)\n",
    "    print(\"********ACCURACY IS BELOW**********\")\n",
    "    print(acc)\n",
    "    \n",
    "    "
   ]
  },
  {
   "cell_type": "markdown",
   "metadata": {},
   "source": [
    "## Adjust the hyper-parameters"
   ]
  },
  {
   "cell_type": "markdown",
   "metadata": {},
   "source": [
    "##### Adjust activation function and optimizer\n",
    "##### Activation funciton as [softmax, relu, tanh, sigmoid] \n",
    "##### Optimizer as [SGD, RMSprop, Adagrad]\n",
    "##### We can get the best combination as \n",
    "##### LSTM, sigmoid, RMSprop"
   ]
  },
  {
   "cell_type": "markdown",
   "metadata": {},
   "source": [
    "##### From the information above, we can see that LSTM has the best performance. So we choose to use LSTM"
   ]
  },
  {
   "cell_type": "code",
   "execution_count": 43,
   "metadata": {
    "collapsed": true
   },
   "outputs": [],
   "source": [
    "def rnn_1(Xtrain, ytrain, Xtest, ytest):\n",
    "    NUM_CLASSES = 1\n",
    "    EMBED_SIZE = 50\n",
    "    input_holder = Input(shape=(Xtrain.shape[1],))\n",
    "    shared_embed = Embedding(top_words, # input dimension (max int of OHE)\n",
    "                    EMBED_SIZE, # output dimension size\n",
    "                    input_length=100)(input_holder) # number of words in each sequence\n",
    "\n",
    "\n",
    "    x1 = LSTM(50,dropout=0.2, recurrent_dropout=0.2)(shared_embed)\n",
    "    x = Dense(NUM_CLASSES, activation='sigmoid')(x1)\n",
    "    rnn_1=Model(inputs=input_holder,outputs=x)\n",
    "    rnn_1.compile(loss='binary_crossentropy', \n",
    "                      optimizer='rmsprop', \n",
    "                      metrics=['accuracy'])\n",
    "    history = rnn_1.fit(Xtrain, ytrain, epochs=3, batch_size=64, validation_data=(Xtest, ytest))\n",
    "    p1 = rnn_1.predict(Xtest)\n",
    "    yhat = np.array(predict_acc(p1))\n",
    "    acc = mt.accuracy_score(ytest, yhat)\n",
    "    cm = mt.confusion_matrix(ytest,yhat)\n",
    "    cm = cm/np.sum(cm,axis=1)[:,np.newaxis]\n",
    "    \n",
    "    return acc, history, cm"
   ]
  },
  {
   "cell_type": "markdown",
   "metadata": {},
   "source": [
    "## 2.2 Add a second recurrent chain to the former model"
   ]
  },
  {
   "cell_type": "markdown",
   "metadata": {},
   "source": [
    "In this section, we will add recurrent chain to your RNN using the best RNN parameters and architecture (LSTM)."
   ]
  },
  {
   "cell_type": "code",
   "execution_count": 44,
   "metadata": {
    "collapsed": true
   },
   "outputs": [],
   "source": [
    "def rnn_2(Xtrain, ytrain,Xtest, ytest):\n",
    "    NUM_CLASSES = 1\n",
    "    EMBED_SIZE = 50\n",
    "    input_holder = Input(shape=(Xtrain.shape[1],))\n",
    "    shared_embed = Embedding(top_words, # input dimension (max int of OHE)\n",
    "                    EMBED_SIZE, # output dimension size\n",
    "                    input_length=100)(input_holder) # number of words in each sequence\n",
    "\n",
    "\n",
    "    x1 = LSTM(50,dropout=0.2, recurrent_dropout=0.2, return_sequences = True)(shared_embed)\n",
    "    x2 = LSTM(50,dropout=0.5, recurrent_dropout=0.2)(x1)\n",
    "    x = Dense(NUM_CLASSES, activation='sigmoid')(x2)\n",
    "    rnn=Model(inputs=input_holder,outputs=x)\n",
    "    rnn.compile(loss='binary_crossentropy', \n",
    "                      optimizer='rmsprop', \n",
    "                      metrics=['accuracy'])\n",
    "    history = rnn.fit(Xtrain, ytrain, epochs=3, batch_size=64, validation_data=(Xtest, ytest))\n",
    "    p1 = rnn.predict(Xtest)\n",
    "    yhat = predict_acc(p1)\n",
    "    acc = mt.accuracy_score(ytest,yhat)\n",
    "    cm = mt.confusion_matrix(ytest,yhat)\n",
    "    cm = cm/np.sum(cm,axis=1)[:,np.newaxis]\n",
    "    \n",
    "    \n",
    "    return acc, history, cm"
   ]
  },
  {
   "cell_type": "markdown",
   "metadata": {},
   "source": [
    "### Visualize the performance of training and validation sets versus the training iterations. "
   ]
  },
  {
   "cell_type": "code",
   "execution_count": 45,
   "metadata": {},
   "outputs": [
    {
     "name": "stdout",
     "output_type": "stream",
     "text": [
      "Train on 2400 samples, validate on 600 samples\n",
      "Epoch 1/3\n",
      "2400/2400 [==============================] - 25s 10ms/step - loss: 0.6432 - acc: 0.6196 - val_loss: 0.5614 - val_acc: 0.7067\n",
      "Epoch 2/3\n",
      "2400/2400 [==============================] - 15s 6ms/step - loss: 0.4924 - acc: 0.7746 - val_loss: 0.5305 - val_acc: 0.7300\n",
      "Epoch 3/3\n",
      "2400/2400 [==============================] - 15s 6ms/step - loss: 0.3919 - acc: 0.8317 - val_loss: 0.5148 - val_acc: 0.7633\n"
     ]
    }
   ],
   "source": [
    "score_2, history_2, cm_2 = rnn_2(Xtrain, ytrain,Xtest, ytest)"
   ]
  },
  {
   "cell_type": "code",
   "execution_count": 46,
   "metadata": {},
   "outputs": [
    {
     "data": {
      "text/plain": [
       "array([[0.67028986, 0.32971014],\n",
       "       [0.15740741, 0.84259259]])"
      ]
     },
     "execution_count": 46,
     "metadata": {},
     "output_type": "execute_result"
    }
   ],
   "source": [
    "cm_2"
   ]
  },
  {
   "cell_type": "code",
   "execution_count": 24,
   "metadata": {},
   "outputs": [
    {
     "data": {
      "text/plain": [
       "Text(0.5,0,'epochs')"
      ]
     },
     "execution_count": 24,
     "metadata": {},
     "output_type": "execute_result"
    },
    {
     "data": {
      "image/png": "[encoded data removed]",
      "text/plain": [
       "<matplotlib.figure.Figure at 0x274b79e5a90>"
      ]
     },
     "metadata": {},
     "output_type": "display_data"
    }
   ],
   "source": [
    "plt.figure(figsize=(10,4))\n",
    "plt.subplot(2,2,1)\n",
    "plt.plot(history_2.history['acc'])\n",
    "plt.ylabel('Accuracy %')\n",
    "plt.title('Training')\n",
    "plt.subplot(2,2,2)\n",
    "plt.plot(history_2.history['val_acc'])\n",
    "plt.title('Validation')\n",
    "plt.subplot(2,2,3)\n",
    "plt.plot(history_2.history['loss'])\n",
    "plt.ylabel('MSE Training Loss')\n",
    "plt.xlabel('epochs')\n",
    "plt.subplot(2,2,4)\n",
    "plt.plot(history_2.history['val_loss'])\n",
    "plt.xlabel('epochs')"
   ]
  },
  {
   "cell_type": "markdown",
   "metadata": {},
   "source": [
    "From the above figures, the both the training error (use MSE as loss function) and test error decrease as the iteration increase.The training error is slightly lower than the test error which is resonable because the model fitting procedure tries to minimize the training error. The accuracy for both training and test data increase with iterations. The acccuracy of the validataion data is what we interested in, which increase from around 0.70 to 0.77. The accuracy for the validation data seems good. "
   ]
  },
  {
   "cell_type": "markdown",
   "metadata": {},
   "source": [
    "## 2.3 Visualize Results of RNN"
   ]
  },
  {
   "cell_type": "markdown",
   "metadata": {},
   "source": [
    "We will visualize the results of the one recurrent layer and two recurrent layers RNNs that we trained using the accuracy. "
   ]
  },
  {
   "cell_type": "markdown",
   "metadata": {},
   "source": [
    "### One recurrent layer"
   ]
  },
  {
   "cell_type": "code",
   "execution_count": 25,
   "metadata": {
    "scrolled": true
   },
   "outputs": [
    {
     "name": "stdout",
     "output_type": "stream",
     "text": [
      "Train on 2400 samples, validate on 600 samples\n",
      "Epoch 1/3\n",
      "2400/2400 [==============================] - 10s 4ms/step - loss: 0.6668 - acc: 0.5733 - val_loss: 0.5816 - val_acc: 0.7150\n",
      "Epoch 2/3\n",
      "2400/2400 [==============================] - 8s 3ms/step - loss: 0.5394 - acc: 0.7396 - val_loss: 0.5181 - val_acc: 0.7733\n",
      "Epoch 3/3\n",
      "2400/2400 [==============================] - 8s 3ms/step - loss: 0.4375 - acc: 0.8121 - val_loss: 0.4989 - val_acc: 0.7450\n",
      "Train on 2400 samples, validate on 600 samples\n",
      "Epoch 1/3\n",
      "2400/2400 [==============================] - 10s 4ms/step - loss: 0.6582 - acc: 0.5983 - val_loss: 0.6223 - val_acc: 0.6217\n",
      "Epoch 2/3\n",
      "2400/2400 [==============================] - 6s 3ms/step - loss: 0.5373 - acc: 0.7317 - val_loss: 0.5399 - val_acc: 0.7217\n",
      "Epoch 3/3\n",
      "2400/2400 [==============================] - 6s 2ms/step - loss: 0.4308 - acc: 0.8175 - val_loss: 0.5162 - val_acc: 0.7667\n",
      "Train on 2400 samples, validate on 600 samples\n",
      "Epoch 1/3\n",
      "2400/2400 [==============================] - 10s 4ms/step - loss: 0.6652 - acc: 0.5929 - val_loss: 0.6072 - val_acc: 0.6117\n",
      "Epoch 2/3\n",
      "2400/2400 [==============================] - 6s 2ms/step - loss: 0.5473 - acc: 0.7225 - val_loss: 0.5697 - val_acc: 0.7400\n",
      "Epoch 3/3\n",
      "2400/2400 [==============================] - 8s 3ms/step - loss: 0.4352 - acc: 0.8192 - val_loss: 0.4926 - val_acc: 0.7817\n",
      "Train on 2400 samples, validate on 600 samples\n",
      "Epoch 1/3\n",
      "2400/2400 [==============================] - 11s 5ms/step - loss: 0.6598 - acc: 0.5821 - val_loss: 0.5900 - val_acc: 0.6983\n",
      "Epoch 2/3\n",
      "2400/2400 [==============================] - 8s 3ms/step - loss: 0.5262 - acc: 0.7400 - val_loss: 0.4973 - val_acc: 0.7583\n",
      "Epoch 3/3\n",
      "2400/2400 [==============================] - 7s 3ms/step - loss: 0.4125 - acc: 0.8283 - val_loss: 0.4752 - val_acc: 0.7717\n",
      "Train on 2400 samples, validate on 600 samples\n",
      "Epoch 1/3\n",
      "2400/2400 [==============================] - 10s 4ms/step - loss: 0.6514 - acc: 0.5787 - val_loss: 0.5790 - val_acc: 0.7167\n",
      "Epoch 2/3\n",
      "2400/2400 [==============================] - 8s 3ms/step - loss: 0.5346 - acc: 0.7463 - val_loss: 0.5461 - val_acc: 0.7817\n",
      "Epoch 3/3\n",
      "2400/2400 [==============================] - 6s 3ms/step - loss: 0.4438 - acc: 0.8096 - val_loss: 0.5393 - val_acc: 0.7750\n",
      "Train on 2400 samples, validate on 600 samples\n",
      "Epoch 1/3\n",
      "2400/2400 [==============================] - 10s 4ms/step - loss: 0.6510 - acc: 0.5975 - val_loss: 0.6081 - val_acc: 0.6600\n",
      "Epoch 2/3\n",
      "2400/2400 [==============================] - 7s 3ms/step - loss: 0.5256 - acc: 0.7329 - val_loss: 0.5461 - val_acc: 0.7550\n",
      "Epoch 3/3\n",
      "2400/2400 [==============================] - 6s 3ms/step - loss: 0.4222 - acc: 0.8263 - val_loss: 0.5257 - val_acc: 0.7683\n",
      "Train on 2400 samples, validate on 600 samples\n",
      "Epoch 1/3\n",
      "2400/2400 [==============================] - 10s 4ms/step - loss: 0.6578 - acc: 0.5833 - val_loss: 0.5722 - val_acc: 0.7517\n",
      "Epoch 2/3\n",
      "2400/2400 [==============================] - 8s 3ms/step - loss: 0.5242 - acc: 0.7450 - val_loss: 0.5396 - val_acc: 0.7667\n",
      "Epoch 3/3\n",
      "2400/2400 [==============================] - 6s 3ms/step - loss: 0.4265 - acc: 0.8142 - val_loss: 0.5343 - val_acc: 0.7667\n",
      "Train on 2400 samples, validate on 600 samples\n",
      "Epoch 1/3\n",
      "2400/2400 [==============================] - 11s 4ms/step - loss: 0.6704 - acc: 0.5592 - val_loss: 0.6169 - val_acc: 0.6017\n",
      "Epoch 2/3\n",
      "2400/2400 [==============================] - 6s 3ms/step - loss: 0.5531 - acc: 0.7142 - val_loss: 0.5278 - val_acc: 0.7767\n",
      "Epoch 3/3\n",
      "2400/2400 [==============================] - 7s 3ms/step - loss: 0.4385 - acc: 0.8213 - val_loss: 0.5385 - val_acc: 0.7550\n",
      "Train on 2400 samples, validate on 600 samples\n",
      "Epoch 1/3\n",
      "2400/2400 [==============================] - 10s 4ms/step - loss: 0.6617 - acc: 0.5783 - val_loss: 0.5951 - val_acc: 0.7483\n",
      "Epoch 2/3\n",
      "2400/2400 [==============================] - 8s 3ms/step - loss: 0.5339 - acc: 0.7529 - val_loss: 0.5247 - val_acc: 0.7717\n",
      "Epoch 3/3\n",
      "2400/2400 [==============================] - 8s 3ms/step - loss: 0.4335 - acc: 0.8204 - val_loss: 0.5102 - val_acc: 0.7400\n",
      "Train on 2400 samples, validate on 600 samples\n",
      "Epoch 1/3\n",
      "2400/2400 [==============================] - 11s 5ms/step - loss: 0.6599 - acc: 0.5825 - val_loss: 0.6339 - val_acc: 0.5900\n",
      "Epoch 2/3\n",
      "2400/2400 [==============================] - 7s 3ms/step - loss: 0.5252 - acc: 0.7483 - val_loss: 0.5557 - val_acc: 0.7600\n",
      "Epoch 3/3\n",
      "2400/2400 [==============================] - 8s 3ms/step - loss: 0.4230 - acc: 0.8213 - val_loss: 0.5027 - val_acc: 0.7633\n"
     ]
    }
   ],
   "source": [
    "score = []\n",
    "history = []\n",
    "\n",
    "X=final_sequences[indices]\n",
    "y=label[indices]\n",
    "for n in range(10):\n",
    "    Xtrain,Xtest,ytrain,ytest=train_test_split(X,y,test_size=0.2, random_state = 42)\n",
    "    score_new, history_new = rnn_1(Xtrain, ytrain, Xtest, ytest)\n",
    "    score.append(score_new)\n",
    "    history.append(history_new)"
   ]
  },
  {
   "cell_type": "markdown",
   "metadata": {},
   "source": [
    "### History graph of one recurrent layer"
   ]
  },
  {
   "cell_type": "code",
   "execution_count": 26,
   "metadata": {},
   "outputs": [
    {
     "data": {
      "image/png": "[encoded data removed]",
      "text/plain": [
       "<matplotlib.figure.Figure at 0x274e0eb39b0>"
      ]
     },
     "metadata": {},
     "output_type": "display_data"
    }
   ],
   "source": [
    "plt.figure(figsize=(10,4))\n",
    "plt.subplot(2,2,1)\n",
    "for i in range(len(history)):\n",
    "    plt.plot(history[i].history['acc'])\n",
    "    plt.ylabel('Accuracy %')\n",
    "    plt.title('Training')\n",
    "\n",
    "for i in range(len(history)):\n",
    "    plt.subplot(2,2,2)\n",
    "    plt.plot(history[i].history['val_acc'])\n",
    "    plt.title('Validation')\n",
    "\n",
    "for i in range(len(history)):\n",
    "    plt.subplot(2,2,3)\n",
    "    plt.plot(history[i].history['loss'])\n",
    "    plt.ylabel('MSE Training Loss')\n",
    "    plt.xlabel('epochs')\n",
    "\n",
    "for i in range(len(history)):\n",
    "    plt.subplot(2,2,4)\n",
    "    plt.plot(history[i].history['val_loss'])\n",
    "    plt.xlabel('epochs')"
   ]
  },
  {
   "cell_type": "markdown",
   "metadata": {},
   "source": [
    "### Accuracy of one recurrent layer "
   ]
  },
  {
   "cell_type": "code",
   "execution_count": 27,
   "metadata": {},
   "outputs": [
    {
     "data": {
      "text/plain": [
       "0.7633333333333334"
      ]
     },
     "execution_count": 27,
     "metadata": {},
     "output_type": "execute_result"
    }
   ],
   "source": [
    "sum(score)/len(score)"
   ]
  },
  {
   "cell_type": "markdown",
   "metadata": {},
   "source": [
    "### One recurrent layer"
   ]
  },
  {
   "cell_type": "code",
   "execution_count": 55,
   "metadata": {
    "scrolled": true
   },
   "outputs": [
    {
     "name": "stdout",
     "output_type": "stream",
     "text": [
      "Train on 2400 samples, validate on 600 samples\n",
      "Epoch 1/3\n",
      "2400/2400 [==============================] - 28s 12ms/step - loss: 0.6562 - acc: 0.6004 - val_loss: 0.5729 - val_acc: 0.7100\n",
      "Epoch 2/3\n",
      "2400/2400 [==============================] - 15s 6ms/step - loss: 0.5123 - acc: 0.7588 - val_loss: 0.5295 - val_acc: 0.7183\n",
      "Epoch 3/3\n",
      "2400/2400 [==============================] - 16s 7ms/step - loss: 0.3909 - acc: 0.8363 - val_loss: 0.6954 - val_acc: 0.6683\n",
      "Train on 2400 samples, validate on 600 samples\n",
      "Epoch 1/3\n",
      "2400/2400 [==============================] - 28s 12ms/step - loss: 0.6358 - acc: 0.6217 - val_loss: 0.6366 - val_acc: 0.6217\n",
      "Epoch 2/3\n",
      "2400/2400 [==============================] - 16s 7ms/step - loss: 0.4884 - acc: 0.7638 - val_loss: 0.5400 - val_acc: 0.7133\n",
      "Epoch 3/3\n",
      "2400/2400 [==============================] - 16s 7ms/step - loss: 0.3745 - acc: 0.8400 - val_loss: 0.5130 - val_acc: 0.7700\n",
      "Train on 2400 samples, validate on 600 samples\n",
      "Epoch 1/3\n",
      "2400/2400 [==============================] - 29s 12ms/step - loss: 0.6459 - acc: 0.6138 - val_loss: 0.5773 - val_acc: 0.6950\n",
      "Epoch 2/3\n",
      "2400/2400 [==============================] - 16s 7ms/step - loss: 0.4915 - acc: 0.7725 - val_loss: 0.5091 - val_acc: 0.7733\n",
      "Epoch 3/3\n",
      "2400/2400 [==============================] - 16s 7ms/step - loss: 0.3727 - acc: 0.8396 - val_loss: 0.5275 - val_acc: 0.7733\n",
      "Train on 2400 samples, validate on 600 samples\n",
      "Epoch 1/3\n",
      "2400/2400 [==============================] - 29s 12ms/step - loss: 0.6490 - acc: 0.6008 - val_loss: 0.5704 - val_acc: 0.6983\n",
      "Epoch 2/3\n",
      "2400/2400 [==============================] - 16s 7ms/step - loss: 0.5008 - acc: 0.7588 - val_loss: 0.5104 - val_acc: 0.7417\n",
      "Epoch 3/3\n",
      "2400/2400 [==============================] - 16s 7ms/step - loss: 0.3829 - acc: 0.8304 - val_loss: 0.5473 - val_acc: 0.7250\n",
      "Train on 2400 samples, validate on 600 samples\n",
      "Epoch 1/3\n",
      "2400/2400 [==============================] - 30s 12ms/step - loss: 0.6502 - acc: 0.6104 - val_loss: 0.5492 - val_acc: 0.7300\n",
      "Epoch 2/3\n",
      "2400/2400 [==============================] - 16s 7ms/step - loss: 0.4993 - acc: 0.7567 - val_loss: 0.4980 - val_acc: 0.7500\n",
      "Epoch 3/3\n",
      "2400/2400 [==============================] - 16s 7ms/step - loss: 0.3676 - acc: 0.8458 - val_loss: 0.4912 - val_acc: 0.7683\n",
      "Train on 2400 samples, validate on 600 samples\n",
      "Epoch 1/3\n",
      "2400/2400 [==============================] - 29s 12ms/step - loss: 0.6352 - acc: 0.6271 - val_loss: 0.5530 - val_acc: 0.7300\n",
      "Epoch 2/3\n",
      "2400/2400 [==============================] - 16s 7ms/step - loss: 0.4788 - acc: 0.7783 - val_loss: 0.4898 - val_acc: 0.7633\n",
      "Epoch 3/3\n",
      "2400/2400 [==============================] - 16s 7ms/step - loss: 0.3779 - acc: 0.8425 - val_loss: 0.5124 - val_acc: 0.7567\n",
      "Train on 2400 samples, validate on 600 samples\n",
      "Epoch 1/3\n",
      "2400/2400 [==============================] - 32s 13ms/step - loss: 0.6356 - acc: 0.6329 - val_loss: 0.5476 - val_acc: 0.7167\n",
      "Epoch 2/3\n",
      "2400/2400 [==============================] - 16s 7ms/step - loss: 0.4826 - acc: 0.7758 - val_loss: 0.5291 - val_acc: 0.7167\n",
      "Epoch 3/3\n",
      "2400/2400 [==============================] - 16s 7ms/step - loss: 0.3754 - acc: 0.8433 - val_loss: 0.4954 - val_acc: 0.7533\n",
      "Train on 2400 samples, validate on 600 samples\n",
      "Epoch 1/3\n",
      "2400/2400 [==============================] - 31s 13ms/step - loss: 0.6486 - acc: 0.6162 - val_loss: 0.5539 - val_acc: 0.7033\n",
      "Epoch 2/3\n",
      "2400/2400 [==============================] - 16s 7ms/step - loss: 0.4902 - acc: 0.7629 - val_loss: 0.5058 - val_acc: 0.7400\n",
      "Epoch 3/3\n",
      "2400/2400 [==============================] - 16s 7ms/step - loss: 0.3588 - acc: 0.8517 - val_loss: 0.5092 - val_acc: 0.7517\n",
      "Train on 2400 samples, validate on 600 samples\n",
      "Epoch 1/3\n",
      "2400/2400 [==============================] - 32s 13ms/step - loss: 0.6590 - acc: 0.5917 - val_loss: 0.5874 - val_acc: 0.6900\n",
      "Epoch 2/3\n",
      "2400/2400 [==============================] - 16s 7ms/step - loss: 0.5101 - acc: 0.7508 - val_loss: 0.5133 - val_acc: 0.7550\n",
      "Epoch 3/3\n",
      "2400/2400 [==============================] - 16s 7ms/step - loss: 0.3936 - acc: 0.8337 - val_loss: 0.4918 - val_acc: 0.7700\n",
      "Train on 2400 samples, validate on 600 samples\n",
      "Epoch 1/3\n",
      "2400/2400 [==============================] - 32s 14ms/step - loss: 0.6351 - acc: 0.6229 - val_loss: 0.5420 - val_acc: 0.7383\n",
      "Epoch 2/3\n",
      "2400/2400 [==============================] - 16s 7ms/step - loss: 0.4830 - acc: 0.7858 - val_loss: 0.5076 - val_acc: 0.7633\n",
      "Epoch 3/3\n",
      "2400/2400 [==============================] - 16s 7ms/step - loss: 0.3611 - acc: 0.8500 - val_loss: 0.5425 - val_acc: 0.7700\n"
     ]
    }
   ],
   "source": [
    "score1 = []\n",
    "history1 = []\n",
    "cm1 = [[0,0],[0,0]]\n",
    "X=final_sequences[indices]\n",
    "y=label[indices]\n",
    "for n in range(10):\n",
    "    Xtrain,Xtest,ytrain,ytest=train_test_split(X,y,test_size=0.2, random_state = 42)\n",
    "    score_new, history_new, cm_new = rnn_2(Xtrain, ytrain, Xtest, ytest)\n",
    "    score1.append(score_new)\n",
    "    history1.append(history_new)\n",
    "    cm1 = cm1 + cm_new"
   ]
  },
  {
   "cell_type": "markdown",
   "metadata": {},
   "source": [
    "The accuracy for the one recurrent layer increases with iterations. The accuracy is about 0.7633. "
   ]
  },
  {
   "cell_type": "markdown",
   "metadata": {},
   "source": [
    "### Two recurrent layers"
   ]
  },
  {
   "cell_type": "code",
   "execution_count": 59,
   "metadata": {
    "scrolled": true
   },
   "outputs": [
    {
     "name": "stdout",
     "output_type": "stream",
     "text": [
      "Train on 2400 samples, validate on 600 samples\n",
      "Epoch 1/3\n",
      "2400/2400 [==============================] - 36s 15ms/step - loss: 0.6569 - acc: 0.5988 - val_loss: 0.6013 - val_acc: 0.6633\n",
      "Epoch 2/3\n",
      "2400/2400 [==============================] - 17s 7ms/step - loss: 0.5146 - acc: 0.7558 - val_loss: 0.4977 - val_acc: 0.7617\n",
      "Epoch 3/3\n",
      "2400/2400 [==============================] - 17s 7ms/step - loss: 0.3925 - acc: 0.8358 - val_loss: 0.4914 - val_acc: 0.7633\n",
      "Train on 2400 samples, validate on 600 samples\n",
      "Epoch 1/3\n",
      "2400/2400 [==============================] - 34s 14ms/step - loss: 0.6362 - acc: 0.6262 - val_loss: 0.5711 - val_acc: 0.7083\n",
      "Epoch 2/3\n",
      "2400/2400 [==============================] - 16s 7ms/step - loss: 0.4858 - acc: 0.7792 - val_loss: 0.5391 - val_acc: 0.7533\n",
      "Epoch 3/3\n",
      "2400/2400 [==============================] - 16s 7ms/step - loss: 0.3724 - acc: 0.8433 - val_loss: 0.6082 - val_acc: 0.7067\n",
      "Train on 2400 samples, validate on 600 samples\n",
      "Epoch 1/3\n",
      "2400/2400 [==============================] - 35s 15ms/step - loss: 0.6589 - acc: 0.5917 - val_loss: 0.6342 - val_acc: 0.6200\n",
      "Epoch 2/3\n",
      "2400/2400 [==============================] - 17s 7ms/step - loss: 0.5153 - acc: 0.7517 - val_loss: 0.5591 - val_acc: 0.6933\n",
      "Epoch 3/3\n",
      "2400/2400 [==============================] - 17s 7ms/step - loss: 0.3844 - acc: 0.8304 - val_loss: 0.4960 - val_acc: 0.7750\n",
      "Train on 2400 samples, validate on 600 samples\n",
      "Epoch 1/3\n",
      "2400/2400 [==============================] - 35s 15ms/step - loss: 0.6500 - acc: 0.6092 - val_loss: 0.5609 - val_acc: 0.7017\n",
      "Epoch 2/3\n",
      "2400/2400 [==============================] - 17s 7ms/step - loss: 0.4916 - acc: 0.7654 - val_loss: 0.5445 - val_acc: 0.7567\n",
      "Epoch 3/3\n",
      "2400/2400 [==============================] - 17s 7ms/step - loss: 0.3773 - acc: 0.8379 - val_loss: 0.5153 - val_acc: 0.7800\n",
      "Train on 2400 samples, validate on 600 samples\n",
      "Epoch 1/3\n",
      "2400/2400 [==============================] - 36s 15ms/step - loss: 0.6543 - acc: 0.6046 - val_loss: 0.5642 - val_acc: 0.7050\n",
      "Epoch 2/3\n",
      "2400/2400 [==============================] - 16s 7ms/step - loss: 0.5016 - acc: 0.7592 - val_loss: 0.5258 - val_acc: 0.7617\n",
      "Epoch 3/3\n",
      "2400/2400 [==============================] - 17s 7ms/step - loss: 0.3590 - acc: 0.8450 - val_loss: 0.5360 - val_acc: 0.7333\n",
      "Train on 2400 samples, validate on 600 samples\n",
      "Epoch 1/3\n",
      "2400/2400 [==============================] - 36s 15ms/step - loss: 0.6435 - acc: 0.6162 - val_loss: 0.5548 - val_acc: 0.7217\n",
      "Epoch 2/3\n",
      "2400/2400 [==============================] - 17s 7ms/step - loss: 0.4779 - acc: 0.7762 - val_loss: 0.5084 - val_acc: 0.7467\n",
      "Epoch 3/3\n",
      "2400/2400 [==============================] - 17s 7ms/step - loss: 0.3682 - acc: 0.8442 - val_loss: 0.4946 - val_acc: 0.7683\n",
      "Train on 2400 samples, validate on 600 samples\n",
      "Epoch 1/3\n",
      "2400/2400 [==============================] - 37s 15ms/step - loss: 0.6473 - acc: 0.6017 - val_loss: 0.5674 - val_acc: 0.7050\n",
      "Epoch 2/3\n",
      "2400/2400 [==============================] - 17s 7ms/step - loss: 0.5078 - acc: 0.7558 - val_loss: 0.5159 - val_acc: 0.7617\n",
      "Epoch 3/3\n",
      "2400/2400 [==============================] - 17s 7ms/step - loss: 0.3750 - acc: 0.8379 - val_loss: 0.4831 - val_acc: 0.7767\n",
      "Train on 2400 samples, validate on 600 samples\n",
      "Epoch 1/3\n",
      "2400/2400 [==============================] - 37s 16ms/step - loss: 0.6505 - acc: 0.6117 - val_loss: 0.5823 - val_acc: 0.6867\n",
      "Epoch 2/3\n",
      "2400/2400 [==============================] - 17s 7ms/step - loss: 0.5078 - acc: 0.7512 - val_loss: 0.5148 - val_acc: 0.7617\n",
      "Epoch 3/3\n",
      "2400/2400 [==============================] - 17s 7ms/step - loss: 0.3809 - acc: 0.8408 - val_loss: 0.7075 - val_acc: 0.6550\n",
      "Train on 2400 samples, validate on 600 samples\n",
      "Epoch 1/3\n",
      "2400/2400 [==============================] - 38s 16ms/step - loss: 0.6344 - acc: 0.6379 - val_loss: 0.5611 - val_acc: 0.7283\n",
      "Epoch 2/3\n",
      "2400/2400 [==============================] - 17s 7ms/step - loss: 0.4873 - acc: 0.7704 - val_loss: 0.5165 - val_acc: 0.7633\n",
      "Epoch 3/3\n",
      "2400/2400 [==============================] - 17s 7ms/step - loss: 0.3692 - acc: 0.8438 - val_loss: 0.5238 - val_acc: 0.7717\n",
      "Train on 2400 samples, validate on 600 samples\n",
      "Epoch 1/3\n",
      "2400/2400 [==============================] - 38s 16ms/step - loss: 0.6584 - acc: 0.5904 - val_loss: 0.5772 - val_acc: 0.6967\n",
      "Epoch 2/3\n",
      "2400/2400 [==============================] - 18s 7ms/step - loss: 0.5079 - acc: 0.7533 - val_loss: 0.5068 - val_acc: 0.7517\n",
      "Epoch 3/3\n",
      "2400/2400 [==============================] - 17s 7ms/step - loss: 0.3785 - acc: 0.8363 - val_loss: 0.4982 - val_acc: 0.7583\n"
     ]
    }
   ],
   "source": [
    "score2 = []\n",
    "history2 = []\n",
    "cm2 = [[0,0],[0,0]]\n",
    "X=final_sequences[indices]\n",
    "y=label[indices]\n",
    "for n in range(10):\n",
    "    Xtrain,Xtest,ytrain,ytest=train_test_split(X,y,test_size=0.2, random_state = 42)\n",
    "    score_new, history_new, cm_new = rnn_2(Xtrain, ytrain, Xtest, ytest)\n",
    "    score2.append(score_new)\n",
    "    history2.append(history_new)\n",
    "    cm2 = cm2 + cm_new"
   ]
  },
  {
   "cell_type": "code",
   "execution_count": 52,
   "metadata": {},
   "outputs": [
    {
     "data": {
      "text/plain": [
       "array([[1.66666667, 0.33333333],\n",
       "       [0.61111111, 1.38888889]])"
      ]
     },
     "execution_count": 52,
     "metadata": {},
     "output_type": "execute_result"
    }
   ],
   "source": [
    "cm2"
   ]
  },
  {
   "cell_type": "code",
   "execution_count": 53,
   "metadata": {
    "collapsed": true
   },
   "outputs": [],
   "source": [
    "cm3 = cm2/2"
   ]
  },
  {
   "cell_type": "code",
   "execution_count": 29,
   "metadata": {},
   "outputs": [
    {
     "data": {
      "text/plain": [
       "[0.7283333333333334,\n",
       " 0.76,\n",
       " 0.7766666666666666,\n",
       " 0.7266666666666667,\n",
       " 0.765,\n",
       " 0.7683333333333333,\n",
       " 0.7616666666666667,\n",
       " 0.7666666666666667,\n",
       " 0.7666666666666667,\n",
       " 0.7733333333333333]"
      ]
     },
     "execution_count": 29,
     "metadata": {},
     "output_type": "execute_result"
    }
   ],
   "source": [
    "score2"
   ]
  },
  {
   "cell_type": "code",
   "execution_count": 30,
   "metadata": {},
   "outputs": [
    {
     "data": {
      "text/plain": [
       "0.7593333333333333"
      ]
     },
     "execution_count": 30,
     "metadata": {},
     "output_type": "execute_result"
    }
   ],
   "source": [
    "sum(score2)/len(score2)"
   ]
  },
  {
   "cell_type": "markdown",
   "metadata": {},
   "source": [
    "##### The accuracy increases with iterations. The accuracy for the one recurrent layer is about 0.7633.  The accuracy for the one recurrent layer is about 0.7593. From the score, we can see that the one recurrent layer and  two recurrent layers are pretty close. The accuracy of one recurrent layer is a lightlly higher. "
   ]
  },
  {
   "cell_type": "markdown",
   "metadata": {},
   "source": [
    "## Statistical Comparison for One Recurrent Layer and Two recurrent Layer"
   ]
  },
  {
   "cell_type": "markdown",
   "metadata": {},
   "source": [
    "### One layer"
   ]
  },
  {
   "cell_type": "code",
   "execution_count": 57,
   "metadata": {},
   "outputs": [
    {
     "data": {
      "text/plain": [
       "<matplotlib.axes._subplots.AxesSubplot at 0x2759a0bfa20>"
      ]
     },
     "execution_count": 57,
     "metadata": {},
     "output_type": "execute_result"
    },
    {
     "data": {
      "image/png": "[encoded data removed]",
      "text/plain": [
       "<matplotlib.figure.Figure at 0x2759a797198>"
      ]
     },
     "metadata": {},
     "output_type": "display_data"
    }
   ],
   "source": [
    "cm_1 = cm1/10\n",
    "sns.heatmap(cm_1,annot=True, fmt='.2f')"
   ]
  },
  {
   "cell_type": "code",
   "execution_count": 56,
   "metadata": {},
   "outputs": [
    {
     "data": {
      "text/plain": [
       "<matplotlib.collections.PathCollection at 0x2759fc62630>"
      ]
     },
     "execution_count": 56,
     "metadata": {},
     "output_type": "execute_result"
    },
    {
     "data": {
      "image/png": "[encoded data removed]",
      "text/plain": [
       "<matplotlib.figure.Figure at 0x27550f35940>"
      ]
     },
     "metadata": {},
     "output_type": "display_data"
    }
   ],
   "source": [
    "plt.scatter(range(10), score1)"
   ]
  },
  {
   "cell_type": "markdown",
   "metadata": {},
   "source": [
    "### Two layer"
   ]
  },
  {
   "cell_type": "code",
   "execution_count": 60,
   "metadata": {},
   "outputs": [
    {
     "data": {
      "text/plain": [
       "<matplotlib.axes._subplots.AxesSubplot at 0x2759c9d4dd8>"
      ]
     },
     "execution_count": 60,
     "metadata": {},
     "output_type": "execute_result"
    },
    {
     "data": {
      "image/png": "[encoded data removed]",
      "text/plain": [
       "<matplotlib.figure.Figure at 0x2759c98fac8>"
      ]
     },
     "metadata": {},
     "output_type": "display_data"
    }
   ],
   "source": [
    "cm_2 = cm2/10\n",
    "sns.heatmap(cm_2,annot=True, fmt='.2f')"
   ]
  },
  {
   "cell_type": "code",
   "execution_count": 61,
   "metadata": {},
   "outputs": [
    {
     "data": {
      "text/plain": [
       "<matplotlib.collections.PathCollection at 0x275e834d5f8>"
      ]
     },
     "execution_count": 61,
     "metadata": {},
     "output_type": "execute_result"
    },
    {
     "data": {
      "image/png": "[encoded data removed]",
      "text/plain": [
       "<matplotlib.figure.Figure at 0x275e831a8d0>"
      ]
     },
     "metadata": {},
     "output_type": "display_data"
    }
   ],
   "source": [
    "plt.scatter(range(10), score2)"
   ]
  },
  {
   "cell_type": "markdown",
   "metadata": {},
   "source": [
    "The colored maps show the predicted and actual percentages of observations labeled as 0(normal) or 1(good). For the one layer, 22% of the \"normal\" oberservations are misclassified as \"good\" and 27% of the \"good\" observations are misclassified as \"normal\". For the one layer, 20% of the \"normal\" oberservations are misclassified as \"good\" and 29% of the \"good\" observations are misclassified as \"normal\".The misclassification rate(or accuracy, accuracy=1-[misclassification rate]) is the same for one layer and two layer. The one layer is a slighter better for classifying \"good\" observations and two layer is a slightly better for classifying \"normal\" observations. \n",
    "\n",
    "The scatter plots shows the accuracy for each of the 10 fold cross validation. The procedure was repeated for 10 times. The final score is the average of the ten scores."
   ]
  },
  {
   "cell_type": "markdown",
   "metadata": {},
   "source": [
    "# 3. Exceptional Work"
   ]
  },
  {
   "cell_type": "markdown",
   "metadata": {},
   "source": [
    "We use t-SNE (or SVD) to visualize the word embeddings of a subset of words in our vocabulary. The t-SNE reduced the dimensions to 2 dimensions. In each dimension, the distance between each word represents how similar they are. Similar words are closer to each other. The noun, verbs,and adjectives are seperated. For example, in the lower right of the plot,  words like \"It's\", \"It\", \"This\", \"The\", \"a\", \"an\", and \"along\" are packed together. In the lower center, verbs are packed together, \"give\", \"lead\", \"come\", \"make\", \"has\", and \"opens\". In the middle, words \"good\", \"fine\", and \"great\" are packed together. In case of nouns, similar types are groups together. For example, in the upper left of the plot, words related to fruits are packed together, such as \"apple\", \"pineapple\", \"melon\", \"tropical\", \"peach\", and \"lemon\". In the upper right, words related to the characters of the wine are packed together, \"flavor\", \"acidity\", \"texure\", \"feel\", \"tannins\", and \"finish\". "
   ]
  },
  {
   "cell_type": "code",
   "execution_count": null,
   "metadata": {
    "collapsed": true
   },
   "outputs": [],
   "source": [
    "import pandas as pd\n",
    "df = pd.read_excel('D:/CSE/machine learning/review.xlsx') \n",
    "d = df['description']\n",
    "words = []\n",
    "for i in range(len(d)):\n",
    "    d[i].replace(',', '')\n",
    "    d[i].replace('.', '')\n",
    "    k = d[i].split()\n",
    "    for j in k:\n",
    "        words.append(j)"
   ]
  },
  {
   "cell_type": "code",
   "execution_count": null,
   "metadata": {
    "collapsed": true
   },
   "outputs": [],
   "source": [
    "import collections\n",
    "vocabulary_size = 200000\n",
    "count = [['UNK', -1]]\n",
    "count.extend(collections.Counter(words).most_common(vocabulary_size - 1))\n",
    "dictionary = dict()\n",
    "\n",
    "for word, _ in count:\n",
    "    dictionary[word] = len(dictionary)\n",
    "data = list()\n",
    "unk_count = 0\n",
    "for word in words:\n",
    "    if word in dictionary:\n",
    "        index = dictionary[word]\n",
    "    else:\n",
    "        index = 0  # dictionary['UNK']\n",
    "        unk_count = unk_count + 1\n",
    "    data.append(index)\n",
    "\n",
    "count[0][1] = unk_count\n",
    "reverse_dictionary = dict(zip(dictionary.values(), dictionary.keys())) \n",
    "del words"
   ]
  },
  {
   "cell_type": "code",
   "execution_count": null,
   "metadata": {
    "collapsed": true
   },
   "outputs": [],
   "source": [
    "data_index = 0\n",
    "\n",
    "def generate_batch(batch_size, num_skips, skip_window):\n",
    "    global data_index\n",
    "    batch = np.ndarray(shape=(batch_size), dtype=np.int32)\n",
    "    labels = np.ndarray(shape=(batch_size, 1), dtype=np.int32)\n",
    "    span = 2 * skip_window + 1  # [ skip_window target skip_window ]\n",
    "    buf = collections.deque(maxlen=span)\n",
    "    for _ in xrange(span):\n",
    "        buf.append(data[data_index])\n",
    "        data_index = (data_index + 1) % len(data)\n",
    "    for i in xrange(batch_size // num_skips):\n",
    "        target = skip_window  # target label at the center of the buffer\n",
    "        targets_to_avoid = [ skip_window ]\n",
    "        for j in xrange(num_skips):\n",
    "            while target in targets_to_avoid:\n",
    "                target = random.randint(0, span - 1)\n",
    "            targets_to_avoid.append(target)\n",
    "            batch[i * num_skips + j] = buf[skip_window]\n",
    "            labels[i * num_skips + j, 0] = buf[target]\n",
    "        buf.append(data[data_index])\n",
    "        data_index = (data_index + 1) % len(data)\n",
    "    return batch, labels"
   ]
  },
  {
   "cell_type": "code",
   "execution_count": null,
   "metadata": {
    "collapsed": true
   },
   "outputs": [],
   "source": [
    "import tensorflow as tf\n",
    "import collections\n",
    "import numpy as np\n",
    "batch_size = 128\n",
    "embedding_size = 128  # 生成向量维度.\n",
    "skip_window = 2       # 左右窗口.\n",
    "num_skips = 2        # 同一个keyword产生label的次数.\n",
    "num_sampled = 64      # 负样本抽样数.\n",
    "\n",
    "graph = tf.Graph()\n",
    "\n",
    "with graph.as_default(), tf.device('/cpu:0'):\n",
    "    train_dataset = tf.placeholder(tf.int32, shape=[batch_size])\n",
    "    train_labels  = tf.placeholder(tf.int32, shape=[batch_size, 1])\n",
    "  \n",
    "    embeddings = tf.Variable(tf.random_uniform([vocabulary_size, embedding_size], -1.0, 1.0))\n",
    "    softmax_weights = tf.Variable(\n",
    "        tf.truncated_normal([vocabulary_size, embedding_size], stddev=1.0/np.sqrt(embedding_size)))\n",
    "    softmax_biases = tf.Variable(tf.zeros([vocabulary_size]))\n",
    "  \n",
    "    embed = tf.nn.embedding_lookup(embeddings, train_dataset)\n",
    "    loss = tf.reduce_mean(\n",
    "        tf.nn.sampled_softmax_loss(weights=softmax_weights, biases=softmax_biases, inputs=embed,\n",
    "                                   labels=train_labels, num_sampled=num_sampled, num_classes=vocabulary_size))\n",
    "\n",
    "    optimizer = tf.train.AdagradOptimizer(1.0).minimize(loss)\n",
    "\n",
    "    norm = tf.sqrt(tf.reduce_sum(tf.square(embeddings), 1, keep_dims=True))\n",
    "    normalized_embeddings = embeddings / norm\n"
   ]
  },
  {
   "cell_type": "code",
   "execution_count": null,
   "metadata": {
    "collapsed": true
   },
   "outputs": [],
   "source": [
    "num_steps = 10000\n",
    "import random\n",
    "with tf.Session(graph=graph) as session:\n",
    "    tf.global_variables_initializer().run()\n",
    "    average_loss = 0\n",
    "    for step in range(num_steps):\n",
    "        batch_data, batch_labels = generate_batch(batch_size, num_skips, skip_window)\n",
    "        feed_dict = {train_dataset : batch_data, train_labels : batch_labels}\n",
    "        _, l = session.run([optimizer, loss], feed_dict=feed_dict)\n",
    "        average_loss += l\n",
    "        if step % 2000== 0 and step > 0:\n",
    "            print('Average loss at step %d: %f' % (step, average_loss / 2000))\n",
    "            average_loss = 0\n",
    "    word2vec = normalized_embeddings.eval()"
   ]
  },
  {
   "attachments": {
    "image.png": {
     "image/png": "[encoded data removed]"
    }
   },
   "cell_type": "markdown",
   "metadata": {},
   "source": [
    "![image.png](attachment:image.png)"
   ]
  },
  {
   "cell_type": "code",
   "execution_count": null,
   "metadata": {
    "collapsed": true
   },
   "outputs": [],
   "source": [
    "def plot_with_labels(low_dim_embs, labels, filename='tsne.png'):  \n",
    "    assert low_dim_embs.shape[0] >= len(labels), 'More labels than embeddings'  \n",
    "    plt.figure(figsize=(18, 18))  # in inches  \n",
    "    for i, label in enumerate(labels):  \n",
    "        x, y = low_dim_embs[i, :]  \n",
    "        plt.scatter(x, y)  \n",
    "        plt.annotate(label,  \n",
    "                 xy=(x, y),  \n",
    "                 xytext=(5, 2),  \n",
    "                 textcoords='offset points',  \n",
    "                 ha='right',  \n",
    "                 va='bottom')  \n",
    "  \n",
    "    plt.savefig(filename)  \n",
    "  \n",
    "try:  \n",
    "    # 如果维度过高（比如1024维），建议先使用PCA降维到50维左右，再使用tsne继续降到2到3维  \n",
    "  # 因为直接使用tsne效率比较低  \n",
    "  # pylint: disable=g-import-not-at-top  \n",
    "    from sklearn.manifold import TSNE  \n",
    "    import matplotlib.pyplot as plt  \n",
    "  \n",
    "  # perplexity:一般设置成30即可，这个值一般设置在5到50之间，这个值不少很重要  \n",
    "  # n_components:降到2维  \n",
    "  # init:可选random或者pca, pca相比random更稳健一些  \n",
    "  # n_iter:优化的最大迭代次数，至少要设置到200  \n",
    "  # method:可以取两个值：1.barnes_hut（默认）：运行速度快，2.exact：运行慢，但精确  \n",
    "    tsne = TSNE(perplexity=30, n_components=2, init='pca', n_iter=5000, method='exact')  \n",
    "    plot_only = 300  #图上显示点的个数  \n",
    "    low_dim_embs = tsne.fit_transform(word2vec[:plot_only, :])  \n",
    "  # 每个点的label，这里取的是word的名字  \n",
    "    labels = [reverse_dictionary[i] for i in xrange(plot_only)]  \n",
    "    plot_with_labels(low_dim_embs, labels)  \n",
    "  \n",
    "except ImportError:  \n",
    "    print('Please install sklearn, matplotlib, and scipy to show embeddings.')  "
   ]
  },
  {
   "cell_type": "code",
   "execution_count": null,
   "metadata": {
    "collapsed": true
   },
   "outputs": [],
   "source": [
    "plt.show()"
   ]
  },
  {
   "attachments": {
    "image.png": {
     "image/png": "[encoded data removed]"
    }
   },
   "cell_type": "markdown",
   "metadata": {},
   "source": [
    "![image.png](attachment:image.png)"
   ]
  },
  {
   "cell_type": "markdown",
   "metadata": {},
   "source": [
    "Reference from https://blog.csdn.net/qoopqpqp/article/details/76037334."
   ]
  }
 ],
 "metadata": {
  "kernelspec": {
   "display_name": "Python 3",
   "language": "python",
   "name": "python3"
  },
  "language_info": {
   "codemirror_mode": {
    "name": "ipython",
    "version": 3
   },
   "file_extension": ".py",
   "mimetype": "text/x-python",
   "name": "python",
   "nbconvert_exporter": "python",
   "pygments_lexer": "ipython3",
   "version": "3.6.3"
  }
 },
 "nbformat": 4,
 "nbformat_minor": 2
}
